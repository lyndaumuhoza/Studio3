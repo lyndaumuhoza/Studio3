{
  "cells": [
    {
      "cell_type": "markdown",
      "metadata": {
        "id": "view-in-github",
        "colab_type": "text"
      },
      "source": [
        "<a href=\"https://colab.research.google.com/github/lyndaumuhoza/Studio3/blob/master/code/HW1_Linear.ipynb\" target=\"_parent\"><img src=\"https://colab.research.google.com/assets/colab-badge.svg\" alt=\"Open In Colab\"/></a>"
      ]
    },
    {
      "cell_type": "markdown",
      "metadata": {
        "id": "B4oKbqMWMpMN"
      },
      "source": [
        "# CS1470/2470 HW1: Single-Layered Neural Networks\n",
        "\n",
        "In this homework assignment, you will build a simple linear model using differential modules.\n",
        "\n",
        "---"
      ]
    },
    {
      "cell_type": "markdown",
      "metadata": {
        "id": "3CLyvlysHCK9"
      },
      "source": [
        "## Starting Our Modular API\n",
        "\n",
        "### **The goal of this assignment is as follows:** \n",
        "- Organize our understanding of deep learning into a modular framework. \n",
        "- Get familiarized with a simple modular API which reflects (but is a simplification of) some of PyTorch's systems. \n",
        "- Implement some nice modular components and be able to construct a functional single-file neural network from it. "
      ]
    },
    {
      "cell_type": "markdown",
      "metadata": {
        "id": "ZFUeG0msHRyo"
      },
      "source": [
        "### Improving The Old Way via Chain Rule\n",
        "\n",
        "Recall that in the machine learning lab, we got the chance to make some simple but effective regression models! Given some realizations $X \\sim \\mathcal{X}$ and $Y = \\mathbb{E}[Y|X] + \\xi$, we were able to train up a model $h_{\\theta} \\in \\mathcal{H}$ which was similar to $\\mathbb{E}[Y|X]$ and thereby minimized an empirical loss $\\mathcal{L}$ of our choice.\n",
        "\n",
        "> As a reminder, $\\mathcal{X}$ is the space of all candidate functions.\n",
        "\n",
        "In these cases, we assumed that $h_{\\theta}$ had a relatively simple and non-flexible architecture, which meant that we could manually specify the structure and simply derive and code up our gradient formula once. Furthermore, since the optimization process was concave, we could even skip the gradient computation and directly derive a loss-minimizing parameter selection. \n",
        "\n",
        "Of course, there are hard limits to what this kind of architecture can provide us; sometimes the relationships that the model needs to capture are relatively complex and might not be resolvable in such a fashion. And that's why this course exists!"
      ]
    },
    {
      "cell_type": "markdown",
      "metadata": {
        "id": "VmnuKJmCHmpg"
      },
      "source": [
        "#### **Problem:** \n",
        "> This is extremely time-consuming and rigid! What happens if we switched out an activation function? A loss function? We'd have to re-specify the gradient every time!\n",
        "\n",
        "#### **Solution:** \n",
        "> Let's take advantage of the chain rule! "
      ]
    },
    {
      "cell_type": "markdown",
      "metadata": {
        "id": "ecdHbe0xHb1o"
      },
      "source": [
        "**Naive Solution:** If we really wanted to, we could approach this problem in the same way as before, and just code up the gradient functions manually. Similarly to before, this would allow us to propagate gradients through, say, a specified loss function, an activation function, and a dense layer. We could also do it for 2 dense layers; just use the old gradient function for the weights in layer 2, compute the new gradient for the weights in layer 1, and so on. "
      ]
    },
    {
      "cell_type": "markdown",
      "metadata": {
        "id": "OTfm_9fmHkhE"
      },
      "source": [
        "Recall that per the chain rule, if there exists a set of differentiable functions $c(b)$ and $b(a)$, then \n",
        "\n",
        "$$\\frac{\\partial a}{\\partial c} = \\frac{\\partial a}{\\partial b} \\frac{\\partial b}{\\partial c}$$\n",
        "\n",
        "Going back to our regression model, let's assume that we have a layered process: \n",
        "\n",
        "$$x \\to h_\\theta(x) \\to \\mathcal{L}(h_\\theta)$$\n",
        "\n",
        "This implies that we can compute the partial of the trainable parameters $\\theta$ through a loss evaluation $\\mathcal{L}$ and a dense layer $h_\\theta(x)$ by the following relationship:\n",
        "\n",
        "$$\\frac{\\partial \\mathcal{L}}{\\partial \\theta} = \\frac{\\partial \\mathcal{h_\\theta}}{\\partial \\theta}\\frac{\\partial \\mathcal{L}}{\\partial h_\\theta}$$\n",
        "\n",
        "With a similar logic, you can also make the assertion that you can also get the partial with respect to the input $x$:\n",
        "\n",
        "$$\\frac{\\partial \\mathcal{L}}{\\partial x} = \\frac{\\partial h_\\theta}{\\partial x}\\frac{\\partial \\mathcal{L}}{\\partial h_\\theta}$$\n",
        "\n",
        "So... by the same token, is there anything stopping us from going further? Let's say that we decided to have another hypothesis function such that $x = h'_{\\theta'}(x')$ for some other hypothesis function and inputs? The new structure would then be: \n",
        "\n",
        "$$x' \\to \\big[ x = h'_{\\theta'}(x') \\big] \\to h_\\theta(x) \\to \\mathcal{L}(h_\\theta)$$\n",
        "\n",
        "Without the chain rule, coding in the facilities to optimize $\\theta'$ might have been tricky, but with the chain rule we know that:\n",
        "\n",
        "$$\\frac{\\partial \\mathcal{L}}{\\partial \\theta'} \n",
        "= \\frac{\\partial x}{\\partial \\theta'}\\frac{\\partial h}{\\partial x}\\frac{\\partial \\mathcal{L}}{\\partial h} \n",
        "= \\frac{\\partial x}{\\partial \\theta'}\\frac{\\partial \\mathcal{L}}{\\partial x}$$"
      ]
    },
    {
      "cell_type": "markdown",
      "metadata": {
        "id": "UUJfaOFpIJbD"
      },
      "source": [
        "Notice how this process is both predictable and scales very well! Say that we wanted to add some activation functions to restrict the range of the hypothesis functions. This trivially inserts into the chain and everything still works and will look something like this: \n",
        "\n",
        "$$ \\frac{\\partial \\mathcal{L}}{\\partial x} = \\frac{\\partial h}{\\partial x}\\frac{\\partial a}{\\partial h}\\frac{\\partial \\mathcal{L}}{\\partial a} \n",
        "\\ \\text{ and } \\ \\frac{\\partial \\mathcal{L}}{\\partial \\theta} = \\frac{\\partial h}{\\partial \\theta}\\frac{\\partial a}{\\partial h}\\frac{\\partial \\mathcal{L}}{\\partial a} \n",
        "$$"
      ]
    },
    {
      "cell_type": "markdown",
      "metadata": {
        "id": "KVyTXT5TIOsz"
      },
      "source": [
        "And with that, we start to approach the reason why this is such a powerful formulation: The cumulative nature of the process. Specifically, consider the process that needs to happen in order to compute this for the extended 2-layer example: \n",
        "\n",
        "$$\n",
        "\\begin{align}\n",
        "\\frac{\\partial a}{\\partial h}\\frac{\\partial \\mathcal{L}}{\\partial a} \n",
        "= \\frac{\\partial \\mathcal{L}}{\\partial h} \n",
        "&\\to \\cdots = \\frac{\\partial \\mathcal{L}}{\\partial x} \n",
        "&\\to \\cdots = \\frac{\\partial \\mathcal{L}}{\\partial a'}\n",
        "&\\to \\cdots = \\frac{\\partial \\mathcal{L}}{\\partial h'} \n",
        "&\\to \\cdots = \\frac{\\partial \\mathcal{L}}{\\partial x'} \n",
        "\\\\\n",
        "&\\searrow \\cdots = \\frac{\\partial \\mathcal{L}}{\\partial \\theta} \n",
        "&&&\\searrow \\cdots = \\frac{\\partial \\mathcal{L}}{\\partial \\theta'} \n",
        "% \\\\\n",
        "% &\\searrow \\cdots = \\frac{\\partial \\mathcal{L}}{\\partial \\theta} \n",
        "% \\to \\cdots = \\frac{\\partial \\mathcal{L}}{\\partial a'} \n",
        "% \\to \\cdots = \\frac{\\partial \\mathcal{L}}{\\partial h'} \n",
        "% &\n",
        "% \\to \\cdots = \\frac{\\partial \\mathcal{L}}{\\partial \\theta'} \n",
        "% \\\\ \n",
        "% &&\n",
        "% \\to \\cdots = \\frac{\\partial \\mathcal{L}}{\\partial x'} \n",
        "\\end{align}\n",
        "$$\n",
        "\n",
        "... and this is the process known as **back-propagation** *(and a special case of **auto-differentiation**)*!"
      ]
    },
    {
      "cell_type": "markdown",
      "metadata": {
        "id": "fdK16iXOVgta"
      },
      "source": [
        "-----"
      ]
    },
    {
      "cell_type": "markdown",
      "metadata": {
        "id": "MhgMs3u_S1OU"
      },
      "source": [
        "## Loading In Our Data"
      ]
    },
    {
      "cell_type": "markdown",
      "metadata": {
        "id": "tV7vjVbTf9Xg"
      },
      "source": [
        "The first thing we have to do is load in our data to use our model with. We'll be working with the [diabetes dataset from the sklearn package](https://scikit-learn.org/stable/datasets/toy_dataset.html#diabetes-dataset). We've already provided the code to load in the input data and the ground truth labels (stored as `X` and `Y` respectively below).\n",
        "\n",
        "**[TODO]:** Split the samples into training and testing sets. We'll train with the train set and reserve the testing set to evaluate the model's performance on samples it hasn't seen.\n",
        "\n",
        "The diabetes dataset has 442 samples. Each sample's input data has 10 data points for some key metrics, like age and cholesterol levels. The \"label\" is a number representing disease progression one year after baseline. Thus, `X` has shape `(442, 10)`, while `Y` has shape `(442,)`.\n",
        "\n",
        "**[TODO]:** Reshape the `Y` subsets to have shape `(num_samples, 1)`."
      ]
    },
    {
      "cell_type": "code",
      "execution_count": 1,
      "metadata": {
        "colab": {
          "base_uri": "https://localhost:8080/"
        },
        "id": "gytrDuxV5gFO",
        "outputId": "c2b0bfe6-d760-4beb-e17b-1715dbd5803b"
      },
      "outputs": [
        {
          "output_type": "stream",
          "name": "stdout",
          "text": [
            "> Input shape: (353, 10) for training, (89, 10) for testing\n",
            "> Label shape: (353, 1) for training, (89, 1) for testing\n"
          ]
        }
      ],
      "source": [
        "# import numpy as np\n",
        "# from sklearn.datasets import load_diabetes\n",
        "\n",
        "# diabetes = load_diabetes()\n",
        "# X, Y = diabetes.data, diabetes.target\n",
        "\n",
        "# ## TODO: Split the data into a 80%-20% training-testing split\n",
        "# ## TODO: Reshape the Y subsets to have shape (num_samples, 1)\n",
        "# X0, X1, Y0, Y1 = None, None, None, None\n",
        "\n",
        "# print(f\"\"\"\n",
        "# > Input shape: {X0.shape} for training, {X1.shape} for testing\n",
        "# > Label shape: {Y0.shape} for training, {Y1.shape} for testing\n",
        "# \"\"\".strip())\n",
        "\n",
        "import numpy as np\n",
        "import sklearn\n",
        "from sklearn.datasets import load_diabetes\n",
        "from sklearn.model_selection import train_test_split\n",
        "\n",
        "diabetes = load_diabetes()\n",
        "X, Y = diabetes.data, diabetes.target.reshape(-1,1)\n",
        "\n",
        "## Split the data into a 80%-20% training-testing split\n",
        "X0, X1, Y0, Y1 = train_test_split(X, Y, test_size=0.2, random_state=42)\n",
        "\n",
        "## Reshape the Y subsets to have shape (num_samples, 1)\n",
        "Y0 = Y0.reshape(-1, 1)\n",
        "Y1 = Y1.reshape(-1, 1)\n",
        "\n",
        "print(f\"\"\"\n",
        "> Input shape: {X0.shape} for training, {X1.shape} for testing\n",
        "> Label shape: {Y0.shape} for training, {Y1.shape} for testing\n",
        "\"\"\".strip())"
      ]
    },
    {
      "cell_type": "markdown",
      "metadata": {
        "id": "CIYU_639VgHq"
      },
      "source": [
        "## **Exploring a possible modular implementation: PyTorch**"
      ]
    },
    {
      "cell_type": "markdown",
      "metadata": {
        "id": "YHs57_36jfDL"
      },
      "source": [
        "Next, we'll want to build up a Regression model interface, from which we can implement specific regression model classes, like the LinearRegression class we'll work with later. \n",
        "\n",
        "We subclass the `nn.Module class`, which represents any module (like a layer or model) of a deep learning system."
      ]
    },
    {
      "cell_type": "code",
      "execution_count": 2,
      "metadata": {
        "id": "DG6vkwv5chPg"
      },
      "outputs": [],
      "source": [
        "import torch\n",
        "import torch.nn as nn\n",
        "\n",
        "class Regression(nn.Module):\n",
        "\n",
        "    \"\"\"\n",
        "    Initialize all the inherent \"things\" inside of a model!\n",
        "    This includes things like the layers, activation/loss functions, and optimzer. \n",
        "    \"\"\"\n",
        "    def __init__(self, input_dims, output_dims):\n",
        "        self.device = torch.device(\"cuda:0\" if torch.cuda.is_available() else \"cpu\")        \n",
        "        super().__init__()\n",
        "        self.dense = nn.Linear(input_dims, output_dims).to(self.device)   \n",
        "        self.activation = None  ## To be specified in subclasses \n",
        "        self.loss = None        ## To be specified in subclasses \n",
        "        self.set_learning_rate()\n",
        "\n",
        "    \"\"\"\n",
        "    Sets up the optmizer\n",
        "    \"\"\"\n",
        "    def set_learning_rate(self, learning_rate=0.001):\n",
        "        self.optimizer = torch.optim.SGD(self.parameters(), lr=learning_rate) ## Simple stochastic gradient descent (SGD) optimizer\n",
        "\n",
        "    \"\"\"\n",
        "    Forward pass of the model\n",
        "    Given an input x, how does the model process the input to get its output?\n",
        "    \"\"\"\n",
        "    def forward(self, x):\n",
        "        x = self.dense(x)\n",
        "        x = self.activation(x)\n",
        "        return x\n"
      ]
    },
    {
      "cell_type": "markdown",
      "metadata": {
        "id": "rTzEFlA0TFZB"
      },
      "source": [
        "## Adding a PyTorch Training/Evaluation Routine"
      ]
    },
    {
      "cell_type": "markdown",
      "metadata": {
        "id": "JBSK640PoDWX"
      },
      "source": [
        "Now that we have the basis for a Regression model, we need to describe how to train (`fit`) and evaluate (`evaluate`) our model, given data. \n",
        "Every epoch, we want to fit our model to the training data, and then evaluate our model on the testing data."
      ]
    },
    {
      "cell_type": "code",
      "execution_count": 3,
      "metadata": {
        "id": "aUetVEGtS9k9"
      },
      "outputs": [],
      "source": [
        "class TrainTest:\n",
        "\n",
        "    no_grad = torch.no_grad\n",
        "\n",
        "    def fit(self, data):\n",
        "        ## Training loop\n",
        "        self.train()        ## Set model into training mode\n",
        "        ## Iterate over the data batches\n",
        "        for batch, (inputs, target) in enumerate(data):\n",
        "            ## In real pytorch, you'd need to set the device\n",
        "            inputs = inputs.to(self.device)\n",
        "            target = target.to(self.device)\n",
        "            ## Erase the gradient history\n",
        "            self.optimizer.zero_grad()\n",
        "            ## Do a forward pass on the model\n",
        "            output = self(inputs)\n",
        "            ## Compute the loss\n",
        "            loss = self.loss(output, target)\n",
        "            ## Run backwards pass from the loss through the previous layers\n",
        "            ## This will accumulate gradients for the parameters that need to be optimized\n",
        "            loss.backward()\n",
        "            ## Perform a single optimization step\n",
        "            self.optimizer.step()\n",
        "        return {'loss' : loss}\n",
        "\n",
        "    def evaluate(self, data):\n",
        "        ## Set model into \"evaluate\" mode so that the parameters don't get updated\n",
        "        self.eval()\n",
        "        total_loss = 0\n",
        "        ## Cut off the tensor training scope to make sure weights aren't updated\n",
        "        ## For now, it's torch.no_grad; later, you'll use Tensor.no_grad\n",
        "        with TrainTest.no_grad():\n",
        "            for inputs, target in data:\n",
        "                ## In real pytorch, you'd need to set the device\n",
        "                inputs = inputs.to(self.device)\n",
        "                target = target.to(self.device)\n",
        "                output = self(inputs)\n",
        "                total_loss += self.loss(output, target).item()  # sum up batch loss\n",
        "\n",
        "        total_loss /= len(data)\n",
        "        return {'test_loss' : total_loss}\n",
        "        \n",
        "    def train_test(self, train_data, test_data, epochs=1):\n",
        "        ## Does both training and validation on a per-epoch basis\n",
        "        all_stats = []\n",
        "        for epoch in range(epochs):\n",
        "            train_stats = self.fit(train_data)\n",
        "            test_stats = self.evaluate(test_data)\n",
        "            all_stats += [{**train_stats, **test_stats}]\n",
        "            print(f'[Epoch {epoch+1}/{epochs}]', all_stats[-1])\n",
        "        return all_stats"
      ]
    },
    {
      "cell_type": "markdown",
      "metadata": {
        "id": "YDNhzYnUTNMa"
      },
      "source": [
        "## Making Linear Regression with Train/Test Capabilities"
      ]
    },
    {
      "cell_type": "markdown",
      "metadata": {
        "id": "njv7q2UTTgQE"
      },
      "source": [
        "Next, we implement the `LinearRegression` class, which subclasses both `Regression` and `TrainTest` to inherit useful methods. \n",
        "\n",
        "Consider a dense layer represented by $Y = XA + B$ where: \n",
        "- $X$ has shape `(n,input_dims)`\n",
        "- $A$ has shape `(input_dims,output_dims)`\n",
        "- $B$ has shape `(n,)`\n",
        "- $Y$ has shape `(n, output_dims)`. \n",
        "\n",
        "Let each row of $X, B, Y$ (or the 0$^\\text{th}$ dimension) represent a different sample. Disregarding bias, note how any given row in $Y$ is a set of linear combinations of the same row in $X$. In other words, a Dense Layer is high-dimensional Linear Regression. \n",
        "\n",
        "Once you've built up your model, try training and testing it in the code block below!"
      ]
    },
    {
      "cell_type": "code",
      "execution_count": 4,
      "metadata": {
        "id": "gYU8NKSdTc4W"
      },
      "outputs": [],
      "source": [
        "class LinearRegression(Regression, TrainTest):\n",
        "    def __init__(self, input_dims, output_dims):\n",
        "        super().__init__(input_dims, output_dims)\n",
        "        self.activation = nn.Identity()\n",
        "        self.loss = nn.MSELoss()"
      ]
    },
    {
      "cell_type": "code",
      "execution_count": 5,
      "metadata": {
        "colab": {
          "base_uri": "https://localhost:8080/"
        },
        "id": "FBUaTs3N_hmn",
        "outputId": "19c89852-e5d5-4c02-b73a-d8fc3b7cbaca"
      },
      "outputs": [
        {
          "output_type": "stream",
          "name": "stdout",
          "text": [
            "[Epoch 1/200] {'loss': tensor(29684.6973, grad_fn=<MseLossBackward0>), 'test_loss': 8140.244140625}\n",
            "[Epoch 2/200] {'loss': tensor(9826.4854, grad_fn=<MseLossBackward0>), 'test_loss': 5530.5947265625}\n",
            "[Epoch 3/200] {'loss': tensor(6629.4243, grad_fn=<MseLossBackward0>), 'test_loss': 5233.880859375}\n",
            "[Epoch 4/200] {'loss': tensor(6098.2251, grad_fn=<MseLossBackward0>), 'test_loss': 5223.49365234375}\n",
            "[Epoch 5/200] {'loss': tensor(5993.7339, grad_fn=<MseLossBackward0>), 'test_loss': 5225.70458984375}\n",
            "[Epoch 6/200] {'loss': tensor(5957.6978, grad_fn=<MseLossBackward0>), 'test_loss': 5216.82177734375}\n",
            "[Epoch 7/200] {'loss': tensor(5932.7964, grad_fn=<MseLossBackward0>), 'test_loss': 5201.0556640625}\n",
            "[Epoch 8/200] {'loss': tensor(5909.8574, grad_fn=<MseLossBackward0>), 'test_loss': 5182.26416015625}\n",
            "[Epoch 9/200] {'loss': tensor(5887.4121, grad_fn=<MseLossBackward0>), 'test_loss': 5162.3271484375}\n",
            "[Epoch 10/200] {'loss': tensor(5865.2231, grad_fn=<MseLossBackward0>), 'test_loss': 5142.05078125}\n",
            "[Epoch 11/200] {'loss': tensor(5843.2505, grad_fn=<MseLossBackward0>), 'test_loss': 5121.7607421875}\n",
            "[Epoch 12/200] {'loss': tensor(5821.4858, grad_fn=<MseLossBackward0>), 'test_loss': 5101.58935546875}\n",
            "[Epoch 13/200] {'loss': tensor(5799.9268, grad_fn=<MseLossBackward0>), 'test_loss': 5081.5869140625}\n",
            "[Epoch 14/200] {'loss': tensor(5778.5703, grad_fn=<MseLossBackward0>), 'test_loss': 5061.77099609375}\n",
            "[Epoch 15/200] {'loss': tensor(5757.4141, grad_fn=<MseLossBackward0>), 'test_loss': 5042.14892578125}\n",
            "[Epoch 16/200] {'loss': tensor(5736.4570, grad_fn=<MseLossBackward0>), 'test_loss': 5022.72314453125}\n",
            "[Epoch 17/200] {'loss': tensor(5715.6973, grad_fn=<MseLossBackward0>), 'test_loss': 5003.49169921875}\n",
            "[Epoch 18/200] {'loss': tensor(5695.1318, grad_fn=<MseLossBackward0>), 'test_loss': 4984.4521484375}\n",
            "[Epoch 19/200] {'loss': tensor(5674.7583, grad_fn=<MseLossBackward0>), 'test_loss': 4965.60400390625}\n",
            "[Epoch 20/200] {'loss': tensor(5654.5757, grad_fn=<MseLossBackward0>), 'test_loss': 4946.9453125}\n",
            "[Epoch 21/200] {'loss': tensor(5634.5825, grad_fn=<MseLossBackward0>), 'test_loss': 4928.4736328125}\n",
            "[Epoch 22/200] {'loss': tensor(5614.7754, grad_fn=<MseLossBackward0>), 'test_loss': 4910.1875}\n",
            "[Epoch 23/200] {'loss': tensor(5595.1528, grad_fn=<MseLossBackward0>), 'test_loss': 4892.08447265625}\n",
            "[Epoch 24/200] {'loss': tensor(5575.7134, grad_fn=<MseLossBackward0>), 'test_loss': 4874.162109375}\n",
            "[Epoch 25/200] {'loss': tensor(5556.4556, grad_fn=<MseLossBackward0>), 'test_loss': 4856.41943359375}\n",
            "[Epoch 26/200] {'loss': tensor(5537.3760, grad_fn=<MseLossBackward0>), 'test_loss': 4838.8544921875}\n",
            "[Epoch 27/200] {'loss': tensor(5518.4751, grad_fn=<MseLossBackward0>), 'test_loss': 4821.46533203125}\n",
            "[Epoch 28/200] {'loss': tensor(5499.7480, grad_fn=<MseLossBackward0>), 'test_loss': 4804.25}\n",
            "[Epoch 29/200] {'loss': tensor(5481.1953, grad_fn=<MseLossBackward0>), 'test_loss': 4787.20556640625}\n",
            "[Epoch 30/200] {'loss': tensor(5462.8145, grad_fn=<MseLossBackward0>), 'test_loss': 4770.33203125}\n",
            "[Epoch 31/200] {'loss': tensor(5444.6035, grad_fn=<MseLossBackward0>), 'test_loss': 4753.626953125}\n",
            "[Epoch 32/200] {'loss': tensor(5426.5615, grad_fn=<MseLossBackward0>), 'test_loss': 4737.087890625}\n",
            "[Epoch 33/200] {'loss': tensor(5408.6860, grad_fn=<MseLossBackward0>), 'test_loss': 4720.71435546875}\n",
            "[Epoch 34/200] {'loss': tensor(5390.9756, grad_fn=<MseLossBackward0>), 'test_loss': 4704.5029296875}\n",
            "[Epoch 35/200] {'loss': tensor(5373.4277, grad_fn=<MseLossBackward0>), 'test_loss': 4688.4541015625}\n",
            "[Epoch 36/200] {'loss': tensor(5356.0420, grad_fn=<MseLossBackward0>), 'test_loss': 4672.56396484375}\n",
            "[Epoch 37/200] {'loss': tensor(5338.8164, grad_fn=<MseLossBackward0>), 'test_loss': 4656.83203125}\n",
            "[Epoch 38/200] {'loss': tensor(5321.7480, grad_fn=<MseLossBackward0>), 'test_loss': 4641.25634765625}\n",
            "[Epoch 39/200] {'loss': tensor(5304.8374, grad_fn=<MseLossBackward0>), 'test_loss': 4625.83544921875}\n",
            "[Epoch 40/200] {'loss': tensor(5288.0815, grad_fn=<MseLossBackward0>), 'test_loss': 4610.5673828125}\n",
            "[Epoch 41/200] {'loss': tensor(5271.4785, grad_fn=<MseLossBackward0>), 'test_loss': 4595.45166015625}\n",
            "[Epoch 42/200] {'loss': tensor(5255.0283, grad_fn=<MseLossBackward0>), 'test_loss': 4580.484375}\n",
            "[Epoch 43/200] {'loss': tensor(5238.7280, grad_fn=<MseLossBackward0>), 'test_loss': 4565.66552734375}\n",
            "[Epoch 44/200] {'loss': tensor(5222.5767, grad_fn=<MseLossBackward0>), 'test_loss': 4550.994140625}\n",
            "[Epoch 45/200] {'loss': tensor(5206.5728, grad_fn=<MseLossBackward0>), 'test_loss': 4536.4677734375}\n",
            "[Epoch 46/200] {'loss': tensor(5190.7144, grad_fn=<MseLossBackward0>), 'test_loss': 4522.08447265625}\n",
            "[Epoch 47/200] {'loss': tensor(5175.0005, grad_fn=<MseLossBackward0>), 'test_loss': 4507.84326171875}\n",
            "[Epoch 48/200] {'loss': tensor(5159.4287, grad_fn=<MseLossBackward0>), 'test_loss': 4493.7431640625}\n",
            "[Epoch 49/200] {'loss': tensor(5143.9995, grad_fn=<MseLossBackward0>), 'test_loss': 4479.78173828125}\n",
            "[Epoch 50/200] {'loss': tensor(5128.7090, grad_fn=<MseLossBackward0>), 'test_loss': 4465.95849609375}\n",
            "[Epoch 51/200] {'loss': tensor(5113.5576, grad_fn=<MseLossBackward0>), 'test_loss': 4452.27099609375}\n",
            "[Epoch 52/200] {'loss': tensor(5098.5430, grad_fn=<MseLossBackward0>), 'test_loss': 4438.71875}\n",
            "[Epoch 53/200] {'loss': tensor(5083.6641, grad_fn=<MseLossBackward0>), 'test_loss': 4425.30029296875}\n",
            "[Epoch 54/200] {'loss': tensor(5068.9209, grad_fn=<MseLossBackward0>), 'test_loss': 4412.01318359375}\n",
            "[Epoch 55/200] {'loss': tensor(5054.3086, grad_fn=<MseLossBackward0>), 'test_loss': 4398.8564453125}\n",
            "[Epoch 56/200] {'loss': tensor(5039.8291, grad_fn=<MseLossBackward0>), 'test_loss': 4385.82958984375}\n",
            "[Epoch 57/200] {'loss': tensor(5025.4795, grad_fn=<MseLossBackward0>), 'test_loss': 4372.9296875}\n",
            "[Epoch 58/200] {'loss': tensor(5011.2588, grad_fn=<MseLossBackward0>), 'test_loss': 4360.15673828125}\n",
            "[Epoch 59/200] {'loss': tensor(4997.1655, grad_fn=<MseLossBackward0>), 'test_loss': 4347.50927734375}\n",
            "[Epoch 60/200] {'loss': tensor(4983.1992, grad_fn=<MseLossBackward0>), 'test_loss': 4334.98583984375}\n",
            "[Epoch 61/200] {'loss': tensor(4969.3574, grad_fn=<MseLossBackward0>), 'test_loss': 4322.58447265625}\n",
            "[Epoch 62/200] {'loss': tensor(4955.6392, grad_fn=<MseLossBackward0>), 'test_loss': 4310.3046875}\n",
            "[Epoch 63/200] {'loss': tensor(4942.0439, grad_fn=<MseLossBackward0>), 'test_loss': 4298.14501953125}\n",
            "[Epoch 64/200] {'loss': tensor(4928.5693, grad_fn=<MseLossBackward0>), 'test_loss': 4286.1044921875}\n",
            "[Epoch 65/200] {'loss': tensor(4915.2158, grad_fn=<MseLossBackward0>), 'test_loss': 4274.1806640625}\n",
            "[Epoch 66/200] {'loss': tensor(4901.9800, grad_fn=<MseLossBackward0>), 'test_loss': 4262.37353515625}\n",
            "[Epoch 67/200] {'loss': tensor(4888.8628, grad_fn=<MseLossBackward0>), 'test_loss': 4250.681640625}\n",
            "[Epoch 68/200] {'loss': tensor(4875.8613, grad_fn=<MseLossBackward0>), 'test_loss': 4239.103515625}\n",
            "[Epoch 69/200] {'loss': tensor(4862.9751, grad_fn=<MseLossBackward0>), 'test_loss': 4227.6376953125}\n",
            "[Epoch 70/200] {'loss': tensor(4850.2036, grad_fn=<MseLossBackward0>), 'test_loss': 4216.2841796875}\n",
            "[Epoch 71/200] {'loss': tensor(4837.5444, grad_fn=<MseLossBackward0>), 'test_loss': 4205.041015625}\n",
            "[Epoch 72/200] {'loss': tensor(4824.9976, grad_fn=<MseLossBackward0>), 'test_loss': 4193.90673828125}\n",
            "[Epoch 73/200] {'loss': tensor(4812.5610, grad_fn=<MseLossBackward0>), 'test_loss': 4182.88037109375}\n",
            "[Epoch 74/200] {'loss': tensor(4800.2339, grad_fn=<MseLossBackward0>), 'test_loss': 4171.96044921875}\n",
            "[Epoch 75/200] {'loss': tensor(4788.0151, grad_fn=<MseLossBackward0>), 'test_loss': 4161.1474609375}\n",
            "[Epoch 76/200] {'loss': tensor(4775.9048, grad_fn=<MseLossBackward0>), 'test_loss': 4150.43896484375}\n",
            "[Epoch 77/200] {'loss': tensor(4763.8994, grad_fn=<MseLossBackward0>), 'test_loss': 4139.833984375}\n",
            "[Epoch 78/200] {'loss': tensor(4751.9995, grad_fn=<MseLossBackward0>), 'test_loss': 4129.33056640625}\n",
            "[Epoch 79/200] {'loss': tensor(4740.2041, grad_fn=<MseLossBackward0>), 'test_loss': 4118.93017578125}\n",
            "[Epoch 80/200] {'loss': tensor(4728.5112, grad_fn=<MseLossBackward0>), 'test_loss': 4108.62939453125}\n",
            "[Epoch 81/200] {'loss': tensor(4716.9209, grad_fn=<MseLossBackward0>), 'test_loss': 4098.42822265625}\n",
            "[Epoch 82/200] {'loss': tensor(4705.4316, grad_fn=<MseLossBackward0>), 'test_loss': 4088.32470703125}\n",
            "[Epoch 83/200] {'loss': tensor(4694.0420, grad_fn=<MseLossBackward0>), 'test_loss': 4078.319580078125}\n",
            "[Epoch 84/200] {'loss': tensor(4682.7520, grad_fn=<MseLossBackward0>), 'test_loss': 4068.41015625}\n",
            "[Epoch 85/200] {'loss': tensor(4671.5596, grad_fn=<MseLossBackward0>), 'test_loss': 4058.595458984375}\n",
            "[Epoch 86/200] {'loss': tensor(4660.4644, grad_fn=<MseLossBackward0>), 'test_loss': 4048.8759765625}\n",
            "[Epoch 87/200] {'loss': tensor(4649.4644, grad_fn=<MseLossBackward0>), 'test_loss': 4039.249267578125}\n",
            "[Epoch 88/200] {'loss': tensor(4638.5610, grad_fn=<MseLossBackward0>), 'test_loss': 4029.71533203125}\n",
            "[Epoch 89/200] {'loss': tensor(4627.7505, grad_fn=<MseLossBackward0>), 'test_loss': 4020.272705078125}\n",
            "[Epoch 90/200] {'loss': tensor(4617.0337, grad_fn=<MseLossBackward0>), 'test_loss': 4010.920654296875}\n",
            "[Epoch 91/200] {'loss': tensor(4606.4092, grad_fn=<MseLossBackward0>), 'test_loss': 4001.6572265625}\n",
            "[Epoch 92/200] {'loss': tensor(4595.8755, grad_fn=<MseLossBackward0>), 'test_loss': 3992.4833984375}\n",
            "[Epoch 93/200] {'loss': tensor(4585.4331, grad_fn=<MseLossBackward0>), 'test_loss': 3983.396728515625}\n",
            "[Epoch 94/200] {'loss': tensor(4575.0801, grad_fn=<MseLossBackward0>), 'test_loss': 3974.396728515625}\n",
            "[Epoch 95/200] {'loss': tensor(4564.8154, grad_fn=<MseLossBackward0>), 'test_loss': 3965.48291015625}\n",
            "[Epoch 96/200] {'loss': tensor(4554.6382, grad_fn=<MseLossBackward0>), 'test_loss': 3956.65380859375}\n",
            "[Epoch 97/200] {'loss': tensor(4544.5483, grad_fn=<MseLossBackward0>), 'test_loss': 3947.9091796875}\n",
            "[Epoch 98/200] {'loss': tensor(4534.5444, grad_fn=<MseLossBackward0>), 'test_loss': 3939.24755859375}\n",
            "[Epoch 99/200] {'loss': tensor(4524.6255, grad_fn=<MseLossBackward0>), 'test_loss': 3930.667724609375}\n",
            "[Epoch 100/200] {'loss': tensor(4514.7905, grad_fn=<MseLossBackward0>), 'test_loss': 3922.169921875}\n",
            "[Epoch 101/200] {'loss': tensor(4505.0391, grad_fn=<MseLossBackward0>), 'test_loss': 3913.75244140625}\n",
            "[Epoch 102/200] {'loss': tensor(4495.3706, grad_fn=<MseLossBackward0>), 'test_loss': 3905.4150390625}\n",
            "[Epoch 103/200] {'loss': tensor(4485.7847, grad_fn=<MseLossBackward0>), 'test_loss': 3897.156982421875}\n",
            "[Epoch 104/200] {'loss': tensor(4476.2783, grad_fn=<MseLossBackward0>), 'test_loss': 3888.97607421875}\n",
            "[Epoch 105/200] {'loss': tensor(4466.8530, grad_fn=<MseLossBackward0>), 'test_loss': 3880.873291015625}\n",
            "[Epoch 106/200] {'loss': tensor(4457.5073, grad_fn=<MseLossBackward0>), 'test_loss': 3872.846923828125}\n",
            "[Epoch 107/200] {'loss': tensor(4448.2393, grad_fn=<MseLossBackward0>), 'test_loss': 3864.89599609375}\n",
            "[Epoch 108/200] {'loss': tensor(4439.0498, grad_fn=<MseLossBackward0>), 'test_loss': 3857.020263671875}\n",
            "[Epoch 109/200] {'loss': tensor(4429.9365, grad_fn=<MseLossBackward0>), 'test_loss': 3849.218994140625}\n",
            "[Epoch 110/200] {'loss': tensor(4420.9009, grad_fn=<MseLossBackward0>), 'test_loss': 3841.490478515625}\n",
            "[Epoch 111/200] {'loss': tensor(4411.9399, grad_fn=<MseLossBackward0>), 'test_loss': 3833.835693359375}\n",
            "[Epoch 112/200] {'loss': tensor(4403.0537, grad_fn=<MseLossBackward0>), 'test_loss': 3826.251708984375}\n",
            "[Epoch 113/200] {'loss': tensor(4394.2417, grad_fn=<MseLossBackward0>), 'test_loss': 3818.740234375}\n",
            "[Epoch 114/200] {'loss': tensor(4385.5034, grad_fn=<MseLossBackward0>), 'test_loss': 3811.29736328125}\n",
            "[Epoch 115/200] {'loss': tensor(4376.8369, grad_fn=<MseLossBackward0>), 'test_loss': 3803.925537109375}\n",
            "[Epoch 116/200] {'loss': tensor(4368.2432, grad_fn=<MseLossBackward0>), 'test_loss': 3796.6220703125}\n",
            "[Epoch 117/200] {'loss': tensor(4359.7202, grad_fn=<MseLossBackward0>), 'test_loss': 3789.3876953125}\n",
            "[Epoch 118/200] {'loss': tensor(4351.2676, grad_fn=<MseLossBackward0>), 'test_loss': 3782.220458984375}\n",
            "[Epoch 119/200] {'loss': tensor(4342.8848, grad_fn=<MseLossBackward0>), 'test_loss': 3775.1201171875}\n",
            "[Epoch 120/200] {'loss': tensor(4334.5713, grad_fn=<MseLossBackward0>), 'test_loss': 3768.0859375}\n",
            "[Epoch 121/200] {'loss': tensor(4326.3262, grad_fn=<MseLossBackward0>), 'test_loss': 3761.1171875}\n",
            "[Epoch 122/200] {'loss': tensor(4318.1489, grad_fn=<MseLossBackward0>), 'test_loss': 3754.21337890625}\n",
            "[Epoch 123/200] {'loss': tensor(4310.0381, grad_fn=<MseLossBackward0>), 'test_loss': 3747.3740234375}\n",
            "[Epoch 124/200] {'loss': tensor(4301.9941, grad_fn=<MseLossBackward0>), 'test_loss': 3740.59765625}\n",
            "[Epoch 125/200] {'loss': tensor(4294.0161, grad_fn=<MseLossBackward0>), 'test_loss': 3733.884765625}\n",
            "[Epoch 126/200] {'loss': tensor(4286.1025, grad_fn=<MseLossBackward0>), 'test_loss': 3727.234130859375}\n",
            "[Epoch 127/200] {'loss': tensor(4278.2539, grad_fn=<MseLossBackward0>), 'test_loss': 3720.644775390625}\n",
            "[Epoch 128/200] {'loss': tensor(4270.4697, grad_fn=<MseLossBackward0>), 'test_loss': 3714.1162109375}\n",
            "[Epoch 129/200] {'loss': tensor(4262.7480, grad_fn=<MseLossBackward0>), 'test_loss': 3707.648193359375}\n",
            "[Epoch 130/200] {'loss': tensor(4255.0894, grad_fn=<MseLossBackward0>), 'test_loss': 3701.23974609375}\n",
            "[Epoch 131/200] {'loss': tensor(4247.4922, grad_fn=<MseLossBackward0>), 'test_loss': 3694.890869140625}\n",
            "[Epoch 132/200] {'loss': tensor(4239.9570, grad_fn=<MseLossBackward0>), 'test_loss': 3688.600341796875}\n",
            "[Epoch 133/200] {'loss': tensor(4232.4819, grad_fn=<MseLossBackward0>), 'test_loss': 3682.366943359375}\n",
            "[Epoch 134/200] {'loss': tensor(4225.0674, grad_fn=<MseLossBackward0>), 'test_loss': 3676.191650390625}\n",
            "[Epoch 135/200] {'loss': tensor(4217.7119, grad_fn=<MseLossBackward0>), 'test_loss': 3670.07275390625}\n",
            "[Epoch 136/200] {'loss': tensor(4210.4170, grad_fn=<MseLossBackward0>), 'test_loss': 3664.01025390625}\n",
            "[Epoch 137/200] {'loss': tensor(4203.1787, grad_fn=<MseLossBackward0>), 'test_loss': 3658.0029296875}\n",
            "[Epoch 138/200] {'loss': tensor(4195.9995, grad_fn=<MseLossBackward0>), 'test_loss': 3652.05126953125}\n",
            "[Epoch 139/200] {'loss': tensor(4188.8770, grad_fn=<MseLossBackward0>), 'test_loss': 3646.15380859375}\n",
            "[Epoch 140/200] {'loss': tensor(4181.8115, grad_fn=<MseLossBackward0>), 'test_loss': 3640.309326171875}\n",
            "[Epoch 141/200] {'loss': tensor(4174.8022, grad_fn=<MseLossBackward0>), 'test_loss': 3634.51904296875}\n",
            "[Epoch 142/200] {'loss': tensor(4167.8486, grad_fn=<MseLossBackward0>), 'test_loss': 3628.781494140625}\n",
            "[Epoch 143/200] {'loss': tensor(4160.9507, grad_fn=<MseLossBackward0>), 'test_loss': 3623.09619140625}\n",
            "[Epoch 144/200] {'loss': tensor(4154.1069, grad_fn=<MseLossBackward0>), 'test_loss': 3617.46240234375}\n",
            "[Epoch 145/200] {'loss': tensor(4147.3169, grad_fn=<MseLossBackward0>), 'test_loss': 3611.8798828125}\n",
            "[Epoch 146/200] {'loss': tensor(4140.5806, grad_fn=<MseLossBackward0>), 'test_loss': 3606.348388671875}\n",
            "[Epoch 147/200] {'loss': tensor(4133.8975, grad_fn=<MseLossBackward0>), 'test_loss': 3600.866455078125}\n",
            "[Epoch 148/200] {'loss': tensor(4127.2671, grad_fn=<MseLossBackward0>), 'test_loss': 3595.4345703125}\n",
            "[Epoch 149/200] {'loss': tensor(4120.6885, grad_fn=<MseLossBackward0>), 'test_loss': 3590.052001953125}\n",
            "[Epoch 150/200] {'loss': tensor(4114.1616, grad_fn=<MseLossBackward0>), 'test_loss': 3584.71728515625}\n",
            "[Epoch 151/200] {'loss': tensor(4107.6855, grad_fn=<MseLossBackward0>), 'test_loss': 3579.43115234375}\n",
            "[Epoch 152/200] {'loss': tensor(4101.2598, grad_fn=<MseLossBackward0>), 'test_loss': 3574.19287109375}\n",
            "[Epoch 153/200] {'loss': tensor(4094.8845, grad_fn=<MseLossBackward0>), 'test_loss': 3569.001708984375}\n",
            "[Epoch 154/200] {'loss': tensor(4088.5583, grad_fn=<MseLossBackward0>), 'test_loss': 3563.857421875}\n",
            "[Epoch 155/200] {'loss': tensor(4082.2815, grad_fn=<MseLossBackward0>), 'test_loss': 3558.7587890625}\n",
            "[Epoch 156/200] {'loss': tensor(4076.0535, grad_fn=<MseLossBackward0>), 'test_loss': 3553.7060546875}\n",
            "[Epoch 157/200] {'loss': tensor(4069.8733, grad_fn=<MseLossBackward0>), 'test_loss': 3548.698974609375}\n",
            "[Epoch 158/200] {'loss': tensor(4063.7407, grad_fn=<MseLossBackward0>), 'test_loss': 3543.736572265625}\n",
            "[Epoch 159/200] {'loss': tensor(4057.6558, grad_fn=<MseLossBackward0>), 'test_loss': 3538.818115234375}\n",
            "[Epoch 160/200] {'loss': tensor(4051.6172, grad_fn=<MseLossBackward0>), 'test_loss': 3533.944580078125}\n",
            "[Epoch 161/200] {'loss': tensor(4045.6257, grad_fn=<MseLossBackward0>), 'test_loss': 3529.113525390625}\n",
            "[Epoch 162/200] {'loss': tensor(4039.6792, grad_fn=<MseLossBackward0>), 'test_loss': 3524.325439453125}\n",
            "[Epoch 163/200] {'loss': tensor(4033.7786, grad_fn=<MseLossBackward0>), 'test_loss': 3519.580810546875}\n",
            "[Epoch 164/200] {'loss': tensor(4027.9229, grad_fn=<MseLossBackward0>), 'test_loss': 3514.8779296875}\n",
            "[Epoch 165/200] {'loss': tensor(4022.1118, grad_fn=<MseLossBackward0>), 'test_loss': 3510.21728515625}\n",
            "[Epoch 166/200] {'loss': tensor(4016.3450, grad_fn=<MseLossBackward0>), 'test_loss': 3505.596923828125}\n",
            "[Epoch 167/200] {'loss': tensor(4010.6213, grad_fn=<MseLossBackward0>), 'test_loss': 3501.018310546875}\n",
            "[Epoch 168/200] {'loss': tensor(4004.9419, grad_fn=<MseLossBackward0>), 'test_loss': 3496.480224609375}\n",
            "[Epoch 169/200] {'loss': tensor(3999.3052, grad_fn=<MseLossBackward0>), 'test_loss': 3491.981689453125}\n",
            "[Epoch 170/200] {'loss': tensor(3993.7107, grad_fn=<MseLossBackward0>), 'test_loss': 3487.523193359375}\n",
            "[Epoch 171/200] {'loss': tensor(3988.1582, grad_fn=<MseLossBackward0>), 'test_loss': 3483.10400390625}\n",
            "[Epoch 172/200] {'loss': tensor(3982.6479, grad_fn=<MseLossBackward0>), 'test_loss': 3478.72412109375}\n",
            "[Epoch 173/200] {'loss': tensor(3977.1785, grad_fn=<MseLossBackward0>), 'test_loss': 3474.382080078125}\n",
            "[Epoch 174/200] {'loss': tensor(3971.7502, grad_fn=<MseLossBackward0>), 'test_loss': 3470.078369140625}\n",
            "[Epoch 175/200] {'loss': tensor(3966.3625, grad_fn=<MseLossBackward0>), 'test_loss': 3465.811767578125}\n",
            "[Epoch 176/200] {'loss': tensor(3961.0149, grad_fn=<MseLossBackward0>), 'test_loss': 3461.58349609375}\n",
            "[Epoch 177/200] {'loss': tensor(3955.7075, grad_fn=<MseLossBackward0>), 'test_loss': 3457.391845703125}\n",
            "[Epoch 178/200] {'loss': tensor(3950.4392, grad_fn=<MseLossBackward0>), 'test_loss': 3453.237060546875}\n",
            "[Epoch 179/200] {'loss': tensor(3945.2097, grad_fn=<MseLossBackward0>), 'test_loss': 3449.118408203125}\n",
            "[Epoch 180/200] {'loss': tensor(3940.0190, grad_fn=<MseLossBackward0>), 'test_loss': 3445.035400390625}\n",
            "[Epoch 181/200] {'loss': tensor(3934.8669, grad_fn=<MseLossBackward0>), 'test_loss': 3440.988037109375}\n",
            "[Epoch 182/200] {'loss': tensor(3929.7524, grad_fn=<MseLossBackward0>), 'test_loss': 3436.97607421875}\n",
            "[Epoch 183/200] {'loss': tensor(3924.6760, grad_fn=<MseLossBackward0>), 'test_loss': 3432.9990234375}\n",
            "[Epoch 184/200] {'loss': tensor(3919.6360, grad_fn=<MseLossBackward0>), 'test_loss': 3429.055908203125}\n",
            "[Epoch 185/200] {'loss': tensor(3914.6331, grad_fn=<MseLossBackward0>), 'test_loss': 3425.147216796875}\n",
            "[Epoch 186/200] {'loss': tensor(3909.6672, grad_fn=<MseLossBackward0>), 'test_loss': 3421.271728515625}\n",
            "[Epoch 187/200] {'loss': tensor(3904.7373, grad_fn=<MseLossBackward0>), 'test_loss': 3417.43017578125}\n",
            "[Epoch 188/200] {'loss': tensor(3899.8428, grad_fn=<MseLossBackward0>), 'test_loss': 3413.6220703125}\n",
            "[Epoch 189/200] {'loss': tensor(3894.9844, grad_fn=<MseLossBackward0>), 'test_loss': 3409.8466796875}\n",
            "[Epoch 190/200] {'loss': tensor(3890.1611, grad_fn=<MseLossBackward0>), 'test_loss': 3406.103515625}\n",
            "[Epoch 191/200] {'loss': tensor(3885.3733, grad_fn=<MseLossBackward0>), 'test_loss': 3402.392578125}\n",
            "[Epoch 192/200] {'loss': tensor(3880.6194, grad_fn=<MseLossBackward0>), 'test_loss': 3398.71337890625}\n",
            "[Epoch 193/200] {'loss': tensor(3875.8999, grad_fn=<MseLossBackward0>), 'test_loss': 3395.06591796875}\n",
            "[Epoch 194/200] {'loss': tensor(3871.2144, grad_fn=<MseLossBackward0>), 'test_loss': 3391.449462890625}\n",
            "[Epoch 195/200] {'loss': tensor(3866.5623, grad_fn=<MseLossBackward0>), 'test_loss': 3387.864013671875}\n",
            "[Epoch 196/200] {'loss': tensor(3861.9434, grad_fn=<MseLossBackward0>), 'test_loss': 3384.30908203125}\n",
            "[Epoch 197/200] {'loss': tensor(3857.3572, grad_fn=<MseLossBackward0>), 'test_loss': 3380.784423828125}\n",
            "[Epoch 198/200] {'loss': tensor(3852.8044, grad_fn=<MseLossBackward0>), 'test_loss': 3377.289794921875}\n",
            "[Epoch 199/200] {'loss': tensor(3848.2839, grad_fn=<MseLossBackward0>), 'test_loss': 3373.824462890625}\n",
            "[Epoch 200/200] {'loss': tensor(3843.7949, grad_fn=<MseLossBackward0>), 'test_loss': 3370.388671875}\n"
          ]
        }
      ],
      "source": [
        "torch_model = LinearRegression(X0.shape[-1], 1)\n",
        "torch_model.set_learning_rate(0.3)\n",
        "torch_model.train_test(\n",
        "    [[torch.Tensor(X0), torch.Tensor(Y0)]], \n",
        "    [[torch.Tensor(X1), torch.Tensor(Y1)]],\n",
        "    epochs=200\n",
        ");"
      ]
    },
    {
      "cell_type": "markdown",
      "metadata": {
        "id": "H63TERfyvZtS"
      },
      "source": [
        "## Shapes That Might Be Useful..."
      ]
    },
    {
      "cell_type": "markdown",
      "metadata": {
        "id": "LtwbP5tRbJky"
      },
      "source": [
        "Throughout the duration of this course, you might find it really helpful to check the shapes of each of your different tensors and outputs just to verify that everything is working as intended. Check the block below to see an example!"
      ]
    },
    {
      "cell_type": "code",
      "execution_count": 6,
      "metadata": {
        "colab": {
          "base_uri": "https://localhost:8080/"
        },
        "id": "MBkTktWcD9dz",
        "outputId": "5a8a4c3e-edc3-4430-84ce-603711589d57"
      },
      "outputs": [
        {
          "output_type": "stream",
          "name": "stdout",
          "text": [
            "> Prediction Shape: torch.Size([353, 1])\n",
            "> Weights    Shape: torch.Size([1, 10])\n",
            "> Bias       Shape: torch.Size([1])\n",
            "> Loss       Shape: torch.Size([])\n"
          ]
        }
      ],
      "source": [
        "y_true = torch.Tensor(Y0)\n",
        "y_pred = torch_model(torch.Tensor(X0))\n",
        "loss = torch_model.loss(y_true, y_pred)\n",
        "\n",
        "print(f\"\"\"\n",
        "> Prediction Shape: {y_pred.shape}\n",
        "> Weights    Shape: {list(torch_model.parameters())[0].shape}\n",
        "> Bias       Shape: {list(torch_model.parameters())[1].shape}\n",
        "> Loss       Shape: {loss.shape}\n",
        "\"\"\".strip())"
      ]
    },
    {
      "cell_type": "markdown",
      "metadata": {
        "id": "cu1pLK46fFqX"
      },
      "source": [
        "Next, let's start building up all the different parts of the basic PyTorch tools that we used in order to see what's under the hood."
      ]
    },
    {
      "cell_type": "markdown",
      "metadata": {
        "id": "0ZfozqWdLB2V"
      },
      "source": [
        "## PyTorch Complexity Assumptions"
      ]
    },
    {
      "cell_type": "markdown",
      "metadata": {
        "id": "oVv6iQios7-D"
      },
      "source": [
        "### Tensors\n",
        "- Tensors are responsible for maintaining their own gradients\n",
        "- Tensors hold on to `backward` functions to which they can pass a gradient into. These backwards functions are provided by the layers associated with those tensors. \n",
        "    - If a tensor is a terminal node, it will pass in an upstream gradient of `None`.\n",
        "    - If a tensor is a non-terminal node, it will pass the accumulated upstream gradient. \n",
        "    - `backward` functions as a linked list algorithm and crawls back the chain, computing the gradient for every tensor that it hits (as long as they require a gradient).\n",
        "- Since the tensors hold their own gradients, the optimizer can merely take the tensors' values, take their gradients, and then just optimize them.\n",
        "- However, because tensors are always keeping track of their gradients when `requires_grad` is set to `True`, we also want to add a way to stop tracking gradients.\n",
        "    - For instance, while evaluating the performance of our model, we want to make sure that the model doesn't learn anything from this evaluation phase.\n",
        "    - We can use the `no_grad` subclass to automatically handle the flipping of this `requires_grad` value. \n",
        "        - Every time we enter a `with Tensor.no_grad():` block, the code within `no_grad`'s `__enter__()` method will execute. \n",
        "        - Once we exit the same `with Tensor.no_grad():` block, `no_grad`'s `__exit()__` method will run."
      ]
    },
    {
      "cell_type": "code",
      "execution_count": 7,
      "metadata": {
        "id": "5ZbMLm30y3tD"
      },
      "outputs": [],
      "source": [
        "class Tensor(np.ndarray):\n",
        "\n",
        "    '''\n",
        "    Subclassing numpy arrays is a bit weird:\n",
        "    https://numpy.org/doc/stable/user/basics.subclassing.html\n",
        "\n",
        "    Just assume that the attributes referred to in __new__/__array_finalize__ \n",
        "    will be accessible in a Tensor when a new Tensor object is created.  \n",
        "    '''\n",
        "\n",
        "    requires_grad = True  ## Class variable; accessible by Tensor.requires_grad\n",
        "\n",
        "    def __new__(cls, input_array):\n",
        "        obj = np.asarray(input_array).view(cls)\n",
        "        obj.backward = lambda x: None   ## Backward starts as None, gets assigned later\n",
        "        obj.grad = None                 ## Gradient starts as None, gets computed later\n",
        "        obj.requires_grad = True        ## By default, we'll want to compute gradient for new tensors\n",
        "        obj.to = lambda x: obj          ## We don't handle special device support (i.e. cpu vs gpu/cuda)\n",
        "        return obj\n",
        "\n",
        "    def __array_finalize__(self, obj):\n",
        "        if obj is None: return\n",
        "        self.backward       = getattr(obj, 'backward',      lambda x: None)\n",
        "        self.to             = getattr(obj, 'to',            lambda x: obj)\n",
        "        self.grad           = getattr(obj, 'grad',          None)\n",
        "        self.requires_grad  = getattr(obj, 'requires_grad', None)\n",
        "\n",
        "    class no_grad():\n",
        "\n",
        "        '''\n",
        "        Synergizes with Tensor: By entering the tensor with no_grad scope, \n",
        "        the Tensor.requires_grad singleton will swap to False. \n",
        "        '''\n",
        "        \n",
        "        def __enter__(self):\n",
        "            # When tape scope is entered, stop asking tensors to record gradients\n",
        "            Tensor.requires_grad = False\n",
        "            return self\n",
        "\n",
        "        def __exit__(self, exc_type, exc_val, exc_tb):\n",
        "            # When tape scope is exited, let Diffable start recording to self.operation\n",
        "            Tensor.requires_grad = True"
      ]
    },
    {
      "cell_type": "markdown",
      "metadata": {
        "id": "ovL7L6STvXCU"
      },
      "source": [
        "### Diffable\n",
        "\n",
        "Let's specify a \"Diffable\" object which will represent a module that can be differentiated. This class will make the following assumptions: \n",
        "- Gradients will need to flow through the input pathways in order to compute earlier gradients. \n",
        "    - Therefore, inputs will need an appropriate \"backward\"\n",
        "- Parameters will need to recieve gradients.\n",
        "- More specifically, if a `Diffable` object performs an operation on some input, then we know that the gradient from the output of the Diffable w.r.t. the inputs is the gradient of the `Diffable`'s operations w.r.t. its inputs.\n",
        "  - Thus, a `Diffable`'s `input_gradients()` function should return a tuple with each of the partial derivatives of the operations performed in the forward pass."
      ]
    },
    {
      "cell_type": "code",
      "execution_count": 8,
      "metadata": {
        "id": "9v68mc_U1ymJ"
      },
      "outputs": [],
      "source": [
        "from abc import ABC, abstractmethod  # # For abstract method support\n",
        "\n",
        "class Diffable(ABC):\n",
        "    \"\"\"\n",
        "        We use these to represent differentiable layers which we can compute gradients for.\n",
        "    \"\"\"\n",
        "\n",
        "    def to(self, device):\n",
        "        return self         # Just there to ignore device setting calls\n",
        "    \n",
        "    def __call__(self, *args, **kwargs):\n",
        "        \n",
        "        ## The call method keeps track of method inputs and outputs\n",
        "        self.argnames   = self.forward.__code__.co_varnames[1:]\n",
        "        named_args      = {self.argnames[i] : args[i] for i in range(len(args))}\n",
        "        self.input_dict = {**named_args, **kwargs}\n",
        "        self.inputs     = [self.input_dict[arg] for arg in self.argnames if arg in self.input_dict.keys()]\n",
        "        self.outputs    = self.forward(*args, **kwargs)\n",
        "\n",
        "        ## Make sure outputs are tensors and tie back to this layer\n",
        "        list_outs = isinstance(self.outputs, list) or isinstance(self.outputs, tuple)\n",
        "        if not list_outs:\n",
        "            self.outputs = [self.outputs]\n",
        "        self.outputs = [Tensor(out) for out in self.outputs]\n",
        "        for out in self.outputs: \n",
        "            out.backward = self.backward\n",
        "\n",
        "        # print(self.__class__.__name__.ljust(24), [v.shape for v in self.inputs], '->', [v.shape for v in self.outputs])\n",
        "            \n",
        "        ## And then finally, it returns the output, thereby wrapping the forward\n",
        "        return self.outputs if list_outs else self.outputs[0]\n",
        "\n",
        "    def parameters(self):\n",
        "        \"\"\"Returns a list of parameters\"\"\"\n",
        "        return ()\n",
        "\n",
        "    @abstractmethod\n",
        "    def forward(self, x):\n",
        "        \"\"\"Pass inputs through function. Can store inputs and outputs as instance variables\"\"\"\n",
        "        pass\n",
        "\n",
        "    @abstractmethod\n",
        "    def input_gradients(self):\n",
        "        \"\"\"Returns local gradient of layer output w.r.t. input\"\"\"\n",
        "        pass\n",
        "\n",
        "    def weight_gradients(self):\n",
        "        \"\"\"Returns local gradient of layer output w.r.t. weights\"\"\"\n",
        "        return []\n",
        "    \n",
        "    @abstractmethod\n",
        "    def backward(self, grad=np.array([[1]])):\n",
        "        \"\"\"\n",
        "        Propagate upstream gradient backwards by composing with local gradient\n",
        "        \n",
        "        SCAFFOLD: \n",
        "\n",
        "        Differentiate with respect to layer parameters:\n",
        "            For every param-gradient pair\n",
        "            - If all Tensors or this tensor do not require gradients, then skip\n",
        "            - Otherwise, compose upstream and local gradient\n",
        "        \n",
        "        Differentiate with respect to layer input:\n",
        "            For every input-gradient pair\n",
        "            - If all Tensors or this tensor do not require gradients, then skip\n",
        "            - Otherwise, compose upstream and local gradient\n",
        "\n",
        "        Usefulseful print boilerplate...: \n",
        "            # print(f'Diffing w.r.t. \"{k}\": local = {g.shape} and upstream = {grad.shape}')\n",
        "        \"\"\"\n",
        "        pass"
      ]
    },
    {
      "cell_type": "markdown",
      "metadata": {
        "id": "2n50HNq3ZuCO"
      },
      "source": [
        "### Loss\n",
        "**[TODO]:** Implement the forward pass in `forward()`.\n",
        "- The forward pass should just give the mean squared error between `y_pred` and `y_true`.\n",
        "\n",
        "**[TODO]:** Implement the backward pass in `backward()`.\n",
        "- This should take advantage of the layer inputs as well as the gradients computed with respect to them.\n",
        "- Feel free to only work with the input gradients, since this loss layer does not have any parameters.\n",
        "\n",
        "**[TODO]:** Calculate and return `input_gradients()`:\n",
        "- You want to calculate the gradients which flow to the inputs: `y_pred` and `y_true`\n",
        "- Note that we don't want to \"train\" `y_true`, so you can just return 0 for the grads for `y_true`\n",
        "- Return the partial derivative of mean squared error w.r.t. `y_pred`, and 0.\n",
        "\n",
        "Note that we don't need to implement `weight_gradients()` here because MSELoss doesn't have weights!"
      ]
    },
    {
      "cell_type": "code",
      "execution_count": 10,
      "metadata": {
        "id": "1GG1E4VaC9hs"
      },
      "outputs": [],
      "source": [
        "class MSELoss(Diffable):\n",
        "\n",
        "    \"\"\"\n",
        "        Calculates mean squared error loss and gradient w.r.t. inputs.\n",
        "        Subclasses Diffable.\n",
        "    \"\"\"\n",
        "\n",
        "    def forward(self, y_pred, y_true):\n",
        "        \"\"\"Mean squared error forward pass!\"\"\"\n",
        "        # TODO: Compute and return the MSE given predicted and actual labels\n",
        "        return np.mean((y_pred - y_true)**2)\n",
        "\n",
        "\n",
        "    def input_gradients(self):\n",
        "        \"\"\"Mean squared error backpropagation!\"\"\"\n",
        "        # TODO: Compute and return the gradients\n",
        "\n",
        "        input_gradient = 2/len(y_pred) * (y_true - y_pred)\n",
        "        return input_gradient, np.array([0])\n",
        "\n",
        "    def backward(self, grad=np.array([[1]])):\n",
        "        \"\"\"Mean squared error backpropagation!\"\"\"        \n",
        "        ## TODO: Differentiate with respect to layer inputs        \n",
        "        ## For each input value and input gradient\n",
        "            ## Compose the upstream gradient with this input's gradient\n",
        "            ## Set the gradient of the tensor to the composed gradient as necessary\n",
        "            ## Pass the composed gradient backward through structure\n",
        "        for input, gradient in zip (self.inputs, self.input_gradients):\n",
        "          input.backward(np.matmul(gradient, grad))\n",
        "            "
      ]
    },
    {
      "cell_type": "markdown",
      "metadata": {
        "id": "2CHqCz0nKsGB"
      },
      "source": [
        "And here are some sanity checks you can run to make sure that your code is working as intended. In the first check, the outputs should match. In the second, they should be within the specified range."
      ]
    },
    {
      "cell_type": "code",
      "execution_count": null,
      "metadata": {
        "colab": {
          "base_uri": "https://localhost:8080/"
        },
        "id": "45Y7ngPUKehB",
        "outputId": "3f9f91cf-a238-4c04-d8b5-5e87fd1535cc"
      },
      "outputs": [
        {
          "output_type": "stream",
          "name": "stdout",
          "text": [
            "tensor(3839.7715, grad_fn=<MseLossBackward0>)\n",
            "3839.7715492233997\n"
          ]
        }
      ],
      "source": [
        "class con: \n",
        "    ## Control set using default PyTorch\n",
        "    ytrue = torch.Tensor(Y0)\n",
        "    ypred = torch_model(torch.Tensor(X0))\n",
        "    loss_fn = nn.MSELoss()\n",
        "\n",
        "class exp: \n",
        "    ## Experimental set using your own implementation\n",
        "    ytrue = Tensor(Y0)\n",
        "    ypred = Tensor(con.ypred.detach().numpy())\n",
        "    loss_fn = MSELoss()\n",
        "\n",
        "def ypred_to_loss(ns):\n",
        "    ## Compute loss using the control and experimental namespaces\n",
        "    ns.loss = ns.loss_fn(ns.ypred, ns.ytrue)\n",
        "    return ns.loss\n",
        "\n",
        "## Sanity Check 1: Make sure that the forward pass is the same (i.e. your implementation matches the control)\n",
        "print(ypred_to_loss(con))\n",
        "print(ypred_to_loss(exp))"
      ]
    },
    {
      "cell_type": "code",
      "execution_count": null,
      "metadata": {
        "colab": {
          "base_uri": "https://localhost:8080/",
          "height": 443
        },
        "id": "P9tUAGJkg6I9",
        "outputId": "186a40f5-9a63-4a57-9e95-2c581a757e38"
      },
      "outputs": [
        {
          "output_type": "error",
          "ename": "AttributeError",
          "evalue": "ignored",
          "traceback": [
            "\u001b[0;31m---------------------------------------------------------------------------\u001b[0m",
            "\u001b[0;31mAttributeError\u001b[0m                            Traceback (most recent call last)",
            "\u001b[0;32m<ipython-input-15-29ed4efefb3d>\u001b[0m in \u001b[0;36m<module>\u001b[0;34m\u001b[0m\n\u001b[1;32m     21\u001b[0m \u001b[0;31m# print(\"Before running backwards:\\n\", np.round(exp.ypred.grad, 4))\u001b[0m\u001b[0;34m\u001b[0m\u001b[0;34m\u001b[0m\u001b[0;34m\u001b[0m\u001b[0m\n\u001b[1;32m     22\u001b[0m \u001b[0mypred_to_loss\u001b[0m\u001b[0;34m(\u001b[0m\u001b[0mexp\u001b[0m\u001b[0;34m)\u001b[0m\u001b[0;34m\u001b[0m\u001b[0;34m\u001b[0m\u001b[0m\n\u001b[0;32m---> 23\u001b[0;31m \u001b[0mexp\u001b[0m\u001b[0;34m.\u001b[0m\u001b[0mloss\u001b[0m\u001b[0;34m.\u001b[0m\u001b[0mbackward\u001b[0m\u001b[0;34m(\u001b[0m\u001b[0;34m)\u001b[0m\u001b[0;34m\u001b[0m\u001b[0;34m\u001b[0m\u001b[0m\n\u001b[0m\u001b[1;32m     24\u001b[0m \u001b[0;31m# print(\"After running backwards:\\n\", np.round(exp.ypred.grad, 4))\u001b[0m\u001b[0;34m\u001b[0m\u001b[0;34m\u001b[0m\u001b[0;34m\u001b[0m\u001b[0m\n\u001b[1;32m     25\u001b[0m \u001b[0;34m\u001b[0m\u001b[0m\n",
            "\u001b[0;32m<ipython-input-11-030f63287906>\u001b[0m in \u001b[0;36mbackward\u001b[0;34m(self, grad)\u001b[0m\n\u001b[1;32m     31\u001b[0m             \u001b[0;31m## Pass the composed gradient backward through structure\u001b[0m\u001b[0;34m\u001b[0m\u001b[0;34m\u001b[0m\u001b[0;34m\u001b[0m\u001b[0m\n\u001b[1;32m     32\u001b[0m \u001b[0;34m\u001b[0m\u001b[0m\n\u001b[0;32m---> 33\u001b[0;31m         \u001b[0mgrad_y_pred\u001b[0m\u001b[0;34m,\u001b[0m \u001b[0mgrad_y_true\u001b[0m \u001b[0;34m=\u001b[0m \u001b[0mself\u001b[0m\u001b[0;34m.\u001b[0m\u001b[0minput_gradients\u001b[0m\u001b[0;34m(\u001b[0m\u001b[0;34m)\u001b[0m\u001b[0;34m\u001b[0m\u001b[0;34m\u001b[0m\u001b[0m\n\u001b[0m\u001b[1;32m     34\u001b[0m         \u001b[0mupstream_grad\u001b[0m \u001b[0;34m=\u001b[0m \u001b[0mgrad\u001b[0m \u001b[0;34m*\u001b[0m \u001b[0mgrad_y_pred\u001b[0m\u001b[0;34m\u001b[0m\u001b[0;34m\u001b[0m\u001b[0m\n\u001b[1;32m     35\u001b[0m         \u001b[0;32mreturn\u001b[0m \u001b[0mupstream_grad\u001b[0m\u001b[0;34m\u001b[0m\u001b[0;34m\u001b[0m\u001b[0m\n",
            "\u001b[0;32m<ipython-input-11-030f63287906>\u001b[0m in \u001b[0;36minput_gradients\u001b[0;34m(self)\u001b[0m\n\u001b[1;32m     19\u001b[0m         \u001b[0;31m# TODO: Compute and return the gradients\u001b[0m\u001b[0;34m\u001b[0m\u001b[0;34m\u001b[0m\u001b[0;34m\u001b[0m\u001b[0m\n\u001b[1;32m     20\u001b[0m \u001b[0;34m\u001b[0m\u001b[0m\n\u001b[0;32m---> 21\u001b[0;31m         \u001b[0mself\u001b[0m\u001b[0;34m.\u001b[0m\u001b[0mgrad_y_pred\u001b[0m \u001b[0;34m=\u001b[0m \u001b[0;36m2\u001b[0m \u001b[0;34m*\u001b[0m \u001b[0;34m(\u001b[0m\u001b[0mself\u001b[0m\u001b[0;34m.\u001b[0m\u001b[0my_pred\u001b[0m \u001b[0;34m-\u001b[0m \u001b[0mself\u001b[0m\u001b[0;34m.\u001b[0m\u001b[0my_true\u001b[0m\u001b[0;34m)\u001b[0m \u001b[0;34m/\u001b[0m \u001b[0mself\u001b[0m\u001b[0;34m.\u001b[0m\u001b[0my_pred\u001b[0m\u001b[0;34m.\u001b[0m\u001b[0msize\u001b[0m\u001b[0;34m\u001b[0m\u001b[0;34m\u001b[0m\u001b[0m\n\u001b[0m\u001b[1;32m     22\u001b[0m         \u001b[0mself\u001b[0m\u001b[0;34m.\u001b[0m\u001b[0mgrad_y_true\u001b[0m \u001b[0;34m=\u001b[0m \u001b[0mnp\u001b[0m\u001b[0;34m.\u001b[0m\u001b[0mzeros_like\u001b[0m\u001b[0;34m(\u001b[0m\u001b[0mself\u001b[0m\u001b[0;34m.\u001b[0m\u001b[0my_true\u001b[0m\u001b[0;34m)\u001b[0m\u001b[0;34m\u001b[0m\u001b[0;34m\u001b[0m\u001b[0m\n\u001b[1;32m     23\u001b[0m         \u001b[0;32mreturn\u001b[0m \u001b[0mself\u001b[0m\u001b[0;34m.\u001b[0m\u001b[0mgrad_y_pred\u001b[0m\u001b[0;34m,\u001b[0m \u001b[0mself\u001b[0m\u001b[0;34m.\u001b[0m\u001b[0mgrad_y_true\u001b[0m\u001b[0;34m\u001b[0m\u001b[0;34m\u001b[0m\u001b[0m\n",
            "\u001b[0;31mAttributeError\u001b[0m: 'MSELoss' object has no attribute 'y_pred'"
          ]
        }
      ],
      "source": [
        "## Sanity Check 2: Make sure that the backwards pass is the same\n",
        "\n",
        "con.ypred = con.ypred.detach()\n",
        "con.ypred.requires_grad = True\n",
        "# print(\"Before running backwards:\\n\", con.ypred.grad)\n",
        "ypred_to_loss(con)\n",
        "con.loss.backward()\n",
        "# print(\"After running backwards:\\n\", con.ypred.grad)\n",
        "\n",
        "exp.ypred.grad = None\n",
        "# print(\"Before running backwards:\\n\", np.round(exp.ypred.grad, 4))\n",
        "ypred_to_loss(exp)\n",
        "exp.loss.backward()\n",
        "# print(\"After running backwards:\\n\", np.round(exp.ypred.grad, 4))\n",
        "\n",
        "max_diff = np.max(exp.ypred.grad - con.ypred.grad.detach().numpy())\n",
        "print(f\"Maximum difference {max_diff} should be less than 0.00001\")"
      ]
    },
    {
      "cell_type": "markdown",
      "metadata": {
        "id": "inej4Q37gqN8"
      },
      "source": [
        "### Linear Layer\n",
        "Next, a linear layer!\n",
        "\n",
        "**[TODO]:** Implement the `forward()` pass of a linear layer. \n",
        "\n",
        "**[TODO]:** Calculate (manually) the weight gradients.\n",
        "- Manually differentiate the Dense layer with respect to weights and biases.\n",
        "- Return weight gradient, then bias gradient in that order\n",
        "- HINT: How is differentiating with matrix variables similar to and different from normal differentiation?\n",
        "\n",
        "**[TODO]:** Initalize weights and biases in `_initialize_weight()`.\n",
        "- In a linear layer, we have 2 parameters: weights and biases. \n",
        "- Return two NumPy arrays of the correct shapes according according to the function's arguments. \n",
        "- Return weights and biases, in that order.\n",
        "\n",
        "**[TODO]:** Implement the backward function.\n",
        "- Feel free to only work with the weight gradients, since we do not yet need to support multilayered networks.\n"
      ]
    },
    {
      "cell_type": "code",
      "execution_count": null,
      "metadata": {
        "colab": {
          "base_uri": "https://localhost:8080/"
        },
        "id": "50FnJezypdpt",
        "outputId": "95a5dab1-09c2-4c91-82ff-8204bde887db"
      },
      "outputs": [
        {
          "output_type": "stream",
          "name": "stdout",
          "text": [
            "Maximum difference 6.5929121675911695e-09 should be less than 0.00001\n",
            "\n",
            "Losses: Control 29703.994140625 vs Experimental 29703.99331656647\n",
            "\n",
            "Control Params:\n",
            "Parameter containing:\n",
            "tensor([[-1.5006e-01,  3.3686e-02,  2.1944e-01, -2.1661e-01, -2.1910e-01,\n",
            "          1.8474e-01,  4.1893e-02,  2.7956e-01, -1.6473e-01,  2.1676e-04]],\n",
            "       requires_grad=True)\n",
            "Parameter containing:\n",
            "tensor([0.0240], requires_grad=True)\n",
            "\n",
            "Experimental Params:\n",
            "[[-1.5005662e-01  3.3685692e-02  2.1944311e-01 -2.1661234e-01\n",
            "  -2.1909796e-01  1.8474068e-01  4.1892692e-02  2.7956390e-01\n",
            "  -1.6472851e-01  2.1675941e-04]]\n",
            "[0.02403903]\n"
          ]
        }
      ],
      "source": [
        "# import torch\n",
        "# import torch.nn as nn\n",
        "\n",
        "# class Linear(Diffable):\n",
        "\n",
        "#     \"\"\"\n",
        "#         Standard linear/dense layer.\n",
        "#         Subclasses Diffable.\n",
        "#     \"\"\"\n",
        "\n",
        "#     def __init__(self, in_features, out_features, device=None, dtype=None):\n",
        "#         self.w, self.b = self.__class__._initialize_weight(in_features, out_features)\n",
        "    \n",
        "#     def parameters(self):\n",
        "#         return self.w, self.b\n",
        "\n",
        "#     def forward(self, inputs):\n",
        "#         \"\"\"Forward pass for a dense layer! Refer to lecture slides for how this is computed.\"\"\"\n",
        "#         # TODO: implement the forward pass and return the outputs\n",
        "#         return None\n",
        "\n",
        "#     def weight_gradients(self):\n",
        "#         \"\"\"Calculating the gradients of the weights and biases!\"\"\"\n",
        "#         # TODO: Implement calculation of gradients\n",
        "#         wgrads = None\n",
        "#         bgrads = None\n",
        "#         return (wgrads, bgrads)\n",
        "\n",
        "#     def input_gradients(self):\n",
        "#         \"\"\"Calculate the gradients of the inputs! (Not necessary for HW1)\"\"\"\n",
        "#         return (self.w,)\n",
        "\n",
        "#     @staticmethod\n",
        "#     def _initialize_weight(input_size, output_size):\n",
        "#         \"\"\"\n",
        "#         Initializes the values of the weights and biases. You can assume that \n",
        "#         bias is a zero-vector and weight is normally-distributed.\n",
        "#         \"\"\"\n",
        "#         ## TODO: Implement default assumption: zero-init for bias, normal distribution for weights\n",
        "#         ## Must return tensors for tracking purposes.\n",
        "#         return None\n",
        "\n",
        "#     def backward(self, grad=np.array([[1]])):\n",
        "#         ## For every weight/bias and weight/bias gradient\n",
        "#             ## Compose the upstream gradient with this weight's/bias's gradient\n",
        "#             ## Set the gradient of the tensor to the composed gradient if necessary\n",
        "#             ## Backpropagate the composed gradient through the structure\n",
        "#         pass\n",
        "\n",
        "import torch\n",
        "import torch.nn as nn\n",
        "\n",
        "class Linear(Diffable):\n",
        "    \"\"\"\n",
        "    Standard linear/dense layer.\n",
        "    Subclasses Diffable.\n",
        "    \"\"\"\n",
        "    \n",
        "    def __init__(self, in_features, out_features, device=None, dtype=None):\n",
        "        self.w, self.b = self.__class__._initialize_weight(in_features, out_features)\n",
        "    \n",
        "    def parameters(self):\n",
        "        return self.w, self.b\n",
        "    \n",
        "    def forward(self, inputs):\n",
        "        \"\"\"Forward pass for a dense layer! Refer to lecture slides for how this is computed.\"\"\"\n",
        "        output = inputs @ self.w.T + self.b\n",
        "        return output\n",
        "    \n",
        "    def weight_gradients(self):\n",
        "        \"\"\"Calculating the gradients of the weights and biases!\"\"\"\n",
        "        wgrads = self.input_gradients()[0].T @ self.grad\n",
        "        bgrads = self.grad.sum(axis=0)\n",
        "        return (wgrads, bgrads)\n",
        "    \n",
        "    def input_gradients(self):\n",
        "        \"\"\"Calculate the gradients of the inputs! (Not necessary for HW1)\"\"\"\n",
        "        return (self.w,)\n",
        "    \n",
        "    @staticmethod\n",
        "    def _initialize_weight(input_size, output_size):\n",
        "        \"\"\"Initializes the values of the weights and biases. You can assume that \n",
        "        bias is a zero-vector and weight is normally-distributed.\n",
        "        \"\"\"\n",
        "        w = np.random.randn(output_size, input_size)\n",
        "        b = np.zeros((1, output_size))\n",
        "        return Tensor(w), Tensor(b)\n",
        "    \n",
        "    def backward(self, grad=np.array([[1]])):\n",
        "        ## For every weight/bias and weight/bias gradient\n",
        "        wgrads, bgrads = self.weight_gradients()\n",
        "        self.w.grad = wgrads\n",
        "        self.b.grad = bgrads\n",
        "        ## Compose the upstream gradient with this weight's/bias's gradient\n",
        "        input_grad = grad @ self.w\n",
        "        ## Set the gradient of the tensor to the composed gradient if necessary\n",
        "        self.grad = input_grad\n",
        "        ## Backpropagate the composed gradient through the structure\n",
        "        for i, inp in enumerate(self.inputs):\n",
        "            if inp.requires_grad:\n",
        "                inp.add_grad(input_grad[:, i])\n",
        "                inp.backward(self.grad)\n",
        "\n",
        "class con:\n",
        "    ## Control set using regular pytorch\n",
        "    X0 = torch.Tensor(X0)\n",
        "    Y0 = torch.Tensor(Y0)\n",
        "    X0.requires_grad = True\n",
        "    Y0.requires_grad = True\n",
        "    dense = nn.Linear(10, 1)\n",
        "    loss_fn = nn.MSELoss()\n",
        "\n",
        "class exp:\n",
        "    ## Experimental set using your own implementation\n",
        "    X0 = Tensor(X0)\n",
        "    Y0 = Tensor(Y0)\n",
        "    dense = Linear(10, 1)\n",
        "    dense.w, dense.b = [Tensor(p.detach().numpy()) for p in con.dense.parameters()]\n",
        "    loss_fn = MSELoss()\n",
        "\n",
        "def x_to_loss(ns):\n",
        "    ns.ypred = ns.dense(ns.X0)\n",
        "    ns.loss  = ns.loss_fn(ns.ypred, ns.Y0)\n",
        "    return ns.loss\n",
        "\n",
        "x_to_loss(con)\n",
        "x_to_loss(exp)\n",
        "\n",
        "## Sanity Check 1: Make sure that the forward pass is the same\n",
        "# print(con.ypred)\n",
        "# print(exp.ypred)\n",
        "\n",
        "print(f\"Maximum difference {np.max(con.ypred.detach().numpy() - exp.ypred)} should be less than 0.00001\\n\")\n",
        "\n",
        "print(f\"Losses: Control {con.loss} vs Experimental {exp.loss}\")\n",
        "\n",
        "print('\\nControl Params:',      *list(con.dense.parameters()), sep='\\n')\n",
        "print('\\nExperimental Params:', *list(exp.dense.parameters()), sep='\\n')"
      ]
    },
    {
      "cell_type": "code",
      "execution_count": null,
      "metadata": {
        "colab": {
          "base_uri": "https://localhost:8080/",
          "height": 497
        },
        "id": "-v6oUfSJxidG",
        "outputId": "6fa0502e-e05c-4e07-863e-a6a3063bee85"
      },
      "outputs": [
        {
          "output_type": "stream",
          "name": "stdout",
          "text": [
            "After running backwards on weights:\n",
            "[tensor([[-1.8616, -0.1091, -4.9839, -3.7196, -1.3138, -0.9005,  3.1155, -3.2776,\n",
            "         -4.4858, -3.5216]]), tensor([-307.4255])]\n"
          ]
        },
        {
          "output_type": "error",
          "ename": "AttributeError",
          "evalue": "ignored",
          "traceback": [
            "\u001b[0;31m---------------------------------------------------------------------------\u001b[0m",
            "\u001b[0;31mAttributeError\u001b[0m                            Traceback (most recent call last)",
            "\u001b[0;32m<ipython-input-18-30b837fd4ca4>\u001b[0m in \u001b[0;36m<module>\u001b[0;34m\u001b[0m\n\u001b[1;32m     13\u001b[0m \u001b[0;34m\u001b[0m\u001b[0m\n\u001b[1;32m     14\u001b[0m \u001b[0;32mfor\u001b[0m \u001b[0mp\u001b[0m \u001b[0;32min\u001b[0m \u001b[0mexp\u001b[0m\u001b[0;34m.\u001b[0m\u001b[0mdense\u001b[0m\u001b[0;34m.\u001b[0m\u001b[0mparameters\u001b[0m\u001b[0;34m(\u001b[0m\u001b[0;34m)\u001b[0m\u001b[0;34m:\u001b[0m \u001b[0mp\u001b[0m\u001b[0;34m.\u001b[0m\u001b[0mgrad\u001b[0m \u001b[0;34m=\u001b[0m \u001b[0;32mNone\u001b[0m\u001b[0;34m\u001b[0m\u001b[0;34m\u001b[0m\u001b[0m\n\u001b[0;32m---> 15\u001b[0;31m \u001b[0mx_to_loss\u001b[0m\u001b[0;34m(\u001b[0m\u001b[0mexp\u001b[0m\u001b[0;34m)\u001b[0m\u001b[0;34m.\u001b[0m\u001b[0mbackward\u001b[0m\u001b[0;34m(\u001b[0m\u001b[0;34m)\u001b[0m\u001b[0;34m\u001b[0m\u001b[0;34m\u001b[0m\u001b[0m\n\u001b[0m\u001b[1;32m     16\u001b[0m \u001b[0;34m\u001b[0m\u001b[0m\n\u001b[1;32m     17\u001b[0m \u001b[0mprint\u001b[0m\u001b[0;34m(\u001b[0m\u001b[0;34m\"\\n\"\u001b[0m \u001b[0;34m+\u001b[0m \u001b[0;34m\"*\"\u001b[0m \u001b[0;34m*\u001b[0m \u001b[0;36m100\u001b[0m \u001b[0;34m+\u001b[0m \u001b[0;34m\"\\n\"\u001b[0m\u001b[0;34m)\u001b[0m\u001b[0;34m\u001b[0m\u001b[0;34m\u001b[0m\u001b[0m\n",
            "\u001b[0;32m<ipython-input-11-030f63287906>\u001b[0m in \u001b[0;36mbackward\u001b[0;34m(self, grad)\u001b[0m\n\u001b[1;32m     31\u001b[0m             \u001b[0;31m## Pass the composed gradient backward through structure\u001b[0m\u001b[0;34m\u001b[0m\u001b[0;34m\u001b[0m\u001b[0;34m\u001b[0m\u001b[0m\n\u001b[1;32m     32\u001b[0m \u001b[0;34m\u001b[0m\u001b[0m\n\u001b[0;32m---> 33\u001b[0;31m         \u001b[0mgrad_y_pred\u001b[0m\u001b[0;34m,\u001b[0m \u001b[0mgrad_y_true\u001b[0m \u001b[0;34m=\u001b[0m \u001b[0mself\u001b[0m\u001b[0;34m.\u001b[0m\u001b[0minput_gradients\u001b[0m\u001b[0;34m(\u001b[0m\u001b[0;34m)\u001b[0m\u001b[0;34m\u001b[0m\u001b[0;34m\u001b[0m\u001b[0m\n\u001b[0m\u001b[1;32m     34\u001b[0m         \u001b[0mupstream_grad\u001b[0m \u001b[0;34m=\u001b[0m \u001b[0mgrad\u001b[0m \u001b[0;34m*\u001b[0m \u001b[0mgrad_y_pred\u001b[0m\u001b[0;34m\u001b[0m\u001b[0;34m\u001b[0m\u001b[0m\n\u001b[1;32m     35\u001b[0m         \u001b[0;32mreturn\u001b[0m \u001b[0mupstream_grad\u001b[0m\u001b[0;34m\u001b[0m\u001b[0;34m\u001b[0m\u001b[0m\n",
            "\u001b[0;32m<ipython-input-11-030f63287906>\u001b[0m in \u001b[0;36minput_gradients\u001b[0;34m(self)\u001b[0m\n\u001b[1;32m     19\u001b[0m         \u001b[0;31m# TODO: Compute and return the gradients\u001b[0m\u001b[0;34m\u001b[0m\u001b[0;34m\u001b[0m\u001b[0;34m\u001b[0m\u001b[0m\n\u001b[1;32m     20\u001b[0m \u001b[0;34m\u001b[0m\u001b[0m\n\u001b[0;32m---> 21\u001b[0;31m         \u001b[0mself\u001b[0m\u001b[0;34m.\u001b[0m\u001b[0mgrad_y_pred\u001b[0m \u001b[0;34m=\u001b[0m \u001b[0;36m2\u001b[0m \u001b[0;34m*\u001b[0m \u001b[0;34m(\u001b[0m\u001b[0mself\u001b[0m\u001b[0;34m.\u001b[0m\u001b[0my_pred\u001b[0m \u001b[0;34m-\u001b[0m \u001b[0mself\u001b[0m\u001b[0;34m.\u001b[0m\u001b[0my_true\u001b[0m\u001b[0;34m)\u001b[0m \u001b[0;34m/\u001b[0m \u001b[0mself\u001b[0m\u001b[0;34m.\u001b[0m\u001b[0my_pred\u001b[0m\u001b[0;34m.\u001b[0m\u001b[0msize\u001b[0m\u001b[0;34m\u001b[0m\u001b[0;34m\u001b[0m\u001b[0m\n\u001b[0m\u001b[1;32m     22\u001b[0m         \u001b[0mself\u001b[0m\u001b[0;34m.\u001b[0m\u001b[0mgrad_y_true\u001b[0m \u001b[0;34m=\u001b[0m \u001b[0mnp\u001b[0m\u001b[0;34m.\u001b[0m\u001b[0mzeros_like\u001b[0m\u001b[0;34m(\u001b[0m\u001b[0mself\u001b[0m\u001b[0;34m.\u001b[0m\u001b[0my_true\u001b[0m\u001b[0;34m)\u001b[0m\u001b[0;34m\u001b[0m\u001b[0;34m\u001b[0m\u001b[0m\n\u001b[1;32m     23\u001b[0m         \u001b[0;32mreturn\u001b[0m \u001b[0mself\u001b[0m\u001b[0;34m.\u001b[0m\u001b[0mgrad_y_pred\u001b[0m\u001b[0;34m,\u001b[0m \u001b[0mself\u001b[0m\u001b[0;34m.\u001b[0m\u001b[0mgrad_y_true\u001b[0m\u001b[0;34m\u001b[0m\u001b[0;34m\u001b[0m\u001b[0m\n",
            "\u001b[0;31mAttributeError\u001b[0m: 'MSELoss' object has no attribute 'y_pred'"
          ]
        }
      ],
      "source": [
        "## Sanity Check 2: Make sure that the backwards pass is the same\n",
        "\n",
        "con.X0 = con.X0.detach()\n",
        "con.Y0 = con.Y0.detach()\n",
        "for p in con.dense.parameters():\n",
        "    if p.grad is None: continue\n",
        "    p.grad.detach_()\n",
        "    p.grad = None\n",
        "\n",
        "x_to_loss(con).backward()\n",
        "print(\"After running backwards on weights:\")  \n",
        "print([p.grad for p in con.dense.parameters()])\n",
        "\n",
        "for p in exp.dense.parameters(): p.grad = None\n",
        "x_to_loss(exp).backward()\n",
        "\n",
        "print(\"\\n\" + \"*\" * 100 + \"\\n\")\n",
        "print(\"After running backwards on weights:\")  \n",
        "print([p.grad for p in exp.dense.parameters()])"
      ]
    },
    {
      "cell_type": "markdown",
      "metadata": {
        "id": "CQGhTAMgFe_i"
      },
      "source": [
        "## Optimizing With The Gradients\n",
        "\n",
        "To use the gradients we calculated previously, we need an optimizer. The optimizer allows us to update our weights and bias. A simple approach could be to simply subtract the gradient from the weights and bias. In doing so, we follow the gradient in its opposite direction, minimizing loss. This is what is called gradient descent. \n",
        "\n",
        "However, simply subtracting the gradients from the weights could result in the weights changing wildly between each sample, making training longer. To prevent this, we use a learning rate. The learning rate is a hyperparameter that specifies how much a single step updates weights. A smaller learning rate means that the gradients have less of an impact on the weights, and vice versa.\n",
        "\n",
        "Of course, this is just one (simple) approach. In a later lab, you'll learn about other optimizers, such as Adam and RMSProp.\n",
        "\n",
        "**[TODO]:** Implement stochastic gradient descent for each parameter using the learning rate"
      ]
    },
    {
      "cell_type": "code",
      "execution_count": null,
      "metadata": {
        "id": "J5s6o4_WGXhe"
      },
      "outputs": [],
      "source": [
        "class SGD: \n",
        "    \"\"\"\n",
        "        Performs stochastic gradident descent with the specified learning rate.\n",
        "    \"\"\"\n",
        "    def __init__(self, params, lr, *args, **kwargs):\n",
        "        self.params = params\n",
        "        self.lr = lr\n",
        "    \n",
        "    def zero_grad(self):\n",
        "        \"\"\"\n",
        "            Reset the gradients.\n",
        "        \"\"\"\n",
        "        for param in self.params:\n",
        "            param.grad = None\n",
        "        # pass\n",
        "            \n",
        "    def step(self):\n",
        "        \"\"\"\n",
        "            Update paramaters by subtracting the gradient multiplied by the learning rate.\n",
        "        \"\"\"\n",
        "        ## TODO: Implement stochastic grad descent for each parameter\n",
        "        for param in self.params:\n",
        "            param.data -= self.lr * param.grad\n",
        "        # pass\n"
      ]
    },
    {
      "cell_type": "markdown",
      "metadata": {
        "id": "p9m63xegnLnj"
      },
      "source": [
        "Below, you'll use your new implementations to optimize for linear regression manually. FakeTorchModule will also be provided to make some of the mimicking process easier. \n",
        "\n",
        "**[TODO]:** Complete the model and compare this model's performance to the previous `LinearRegression` model -- they should have a similar loss after training."
      ]
    },
    {
      "cell_type": "code",
      "execution_count": null,
      "metadata": {
        "colab": {
          "base_uri": "https://localhost:8080/",
          "height": 409
        },
        "id": "M6-a0DfvFlnN",
        "outputId": "6489d007-46a2-4ebf-ee18-59128f8ea85f"
      },
      "outputs": [
        {
          "output_type": "error",
          "ename": "NameError",
          "evalue": "ignored",
          "traceback": [
            "\u001b[0;31m---------------------------------------------------------------------------\u001b[0m",
            "\u001b[0;31mNameError\u001b[0m                                 Traceback (most recent call last)",
            "\u001b[0;32m<ipython-input-19-366f0d7eb670>\u001b[0m in \u001b[0;36m<module>\u001b[0;34m\u001b[0m\n\u001b[1;32m     79\u001b[0m \u001b[0moutput_dims\u001b[0m \u001b[0;34m=\u001b[0m \u001b[0mY0\u001b[0m\u001b[0;34m.\u001b[0m\u001b[0mshape\u001b[0m\u001b[0;34m[\u001b[0m\u001b[0;36m1\u001b[0m\u001b[0;34m]\u001b[0m\u001b[0;34m\u001b[0m\u001b[0;34m\u001b[0m\u001b[0m\n\u001b[1;32m     80\u001b[0m \u001b[0;31m## Train the manual linear regression model\u001b[0m\u001b[0;34m\u001b[0m\u001b[0;34m\u001b[0m\u001b[0;34m\u001b[0m\u001b[0m\n\u001b[0;32m---> 81\u001b[0;31m \u001b[0mmodel\u001b[0m \u001b[0;34m=\u001b[0m \u001b[0mManualLinearRegression\u001b[0m\u001b[0;34m(\u001b[0m\u001b[0;36m10\u001b[0m\u001b[0;34m,\u001b[0m \u001b[0;36m1\u001b[0m\u001b[0;34m)\u001b[0m\u001b[0;34m\u001b[0m\u001b[0;34m\u001b[0m\u001b[0m\n\u001b[0m\u001b[1;32m     82\u001b[0m \u001b[0mmodel\u001b[0m\u001b[0;34m.\u001b[0m\u001b[0mset_learning_rate\u001b[0m\u001b[0;34m(\u001b[0m\u001b[0;36m0.2\u001b[0m\u001b[0;34m)\u001b[0m\u001b[0;34m\u001b[0m\u001b[0;34m\u001b[0m\u001b[0m\n\u001b[1;32m     83\u001b[0m model.train_test(\n",
            "\u001b[0;32m<ipython-input-19-366f0d7eb670>\u001b[0m in \u001b[0;36m__init__\u001b[0;34m(self, input_dims, output_dims)\u001b[0m\n\u001b[1;32m     63\u001b[0m \u001b[0;32mclass\u001b[0m \u001b[0mManualLinearRegression\u001b[0m\u001b[0;34m(\u001b[0m\u001b[0mManualRegression\u001b[0m\u001b[0;34m,\u001b[0m \u001b[0mTrainTest2\u001b[0m\u001b[0;34m)\u001b[0m\u001b[0;34m:\u001b[0m\u001b[0;34m\u001b[0m\u001b[0;34m\u001b[0m\u001b[0m\n\u001b[1;32m     64\u001b[0m     \u001b[0;32mdef\u001b[0m \u001b[0m__init__\u001b[0m\u001b[0;34m(\u001b[0m\u001b[0mself\u001b[0m\u001b[0;34m,\u001b[0m \u001b[0minput_dims\u001b[0m\u001b[0;34m,\u001b[0m \u001b[0moutput_dims\u001b[0m\u001b[0;34m)\u001b[0m\u001b[0;34m:\u001b[0m\u001b[0;34m\u001b[0m\u001b[0;34m\u001b[0m\u001b[0m\n\u001b[0;32m---> 65\u001b[0;31m         \u001b[0msuper\u001b[0m\u001b[0;34m(\u001b[0m\u001b[0;34m)\u001b[0m\u001b[0;34m.\u001b[0m\u001b[0m__init__\u001b[0m\u001b[0;34m(\u001b[0m\u001b[0minput_dims\u001b[0m\u001b[0;34m,\u001b[0m \u001b[0moutput_dims\u001b[0m\u001b[0;34m)\u001b[0m\u001b[0;34m\u001b[0m\u001b[0;34m\u001b[0m\u001b[0m\n\u001b[0m\u001b[1;32m     66\u001b[0m         \u001b[0;31m## TODO: Implement the subclass as appropriate with your own implementations\u001b[0m\u001b[0;34m\u001b[0m\u001b[0;34m\u001b[0m\u001b[0;34m\u001b[0m\u001b[0m\n\u001b[1;32m     67\u001b[0m     \u001b[0;32mdef\u001b[0m \u001b[0mmse_loss\u001b[0m\u001b[0;34m(\u001b[0m\u001b[0my_hat\u001b[0m\u001b[0;34m,\u001b[0m \u001b[0my\u001b[0m\u001b[0;34m)\u001b[0m\u001b[0;34m:\u001b[0m\u001b[0;34m\u001b[0m\u001b[0;34m\u001b[0m\u001b[0m\n",
            "\u001b[0;32m<ipython-input-19-366f0d7eb670>\u001b[0m in \u001b[0;36m__init__\u001b[0;34m(self, input_dims, output_dims)\u001b[0m\n\u001b[1;32m     43\u001b[0m         \u001b[0;31m# super().__init__()\u001b[0m\u001b[0;34m\u001b[0m\u001b[0;34m\u001b[0m\u001b[0;34m\u001b[0m\u001b[0m\n\u001b[1;32m     44\u001b[0m         \u001b[0mself\u001b[0m\u001b[0;34m.\u001b[0m\u001b[0mlinear\u001b[0m \u001b[0;34m=\u001b[0m \u001b[0mnn\u001b[0m\u001b[0;34m.\u001b[0m\u001b[0mLinear\u001b[0m\u001b[0;34m(\u001b[0m\u001b[0minput_dims\u001b[0m\u001b[0;34m,\u001b[0m \u001b[0moutput_dims\u001b[0m\u001b[0;34m)\u001b[0m\u001b[0;34m\u001b[0m\u001b[0;34m\u001b[0m\u001b[0m\n\u001b[0;32m---> 45\u001b[0;31m         \u001b[0mself\u001b[0m\u001b[0;34m.\u001b[0m\u001b[0moptimizer\u001b[0m \u001b[0;34m=\u001b[0m \u001b[0mSGD\u001b[0m\u001b[0;34m(\u001b[0m\u001b[0mself\u001b[0m\u001b[0;34m.\u001b[0m\u001b[0mlinear\u001b[0m\u001b[0;34m.\u001b[0m\u001b[0mparameters\u001b[0m\u001b[0;34m(\u001b[0m\u001b[0;34m)\u001b[0m\u001b[0;34m,\u001b[0m \u001b[0;36m0.01\u001b[0m\u001b[0;34m)\u001b[0m\u001b[0;34m\u001b[0m\u001b[0;34m\u001b[0m\u001b[0m\n\u001b[0m\u001b[1;32m     46\u001b[0m         \u001b[0mself\u001b[0m\u001b[0;34m.\u001b[0m\u001b[0mset_learning_rate\u001b[0m\u001b[0;34m(\u001b[0m\u001b[0;34m)\u001b[0m\u001b[0;34m\u001b[0m\u001b[0;34m\u001b[0m\u001b[0m\n\u001b[1;32m     47\u001b[0m \u001b[0;34m\u001b[0m\u001b[0m\n",
            "\u001b[0;31mNameError\u001b[0m: name 'SGD' is not defined"
          ]
        }
      ],
      "source": [
        "import torch\n",
        "import torch.nn as nn\n",
        "\n",
        "class FakeTorchModule:\n",
        "    \"\"\"\n",
        "        Needed so that we can do manual linear regression.\n",
        "    \"\"\"\n",
        "\n",
        "    def __init__(self):\n",
        "        self.device = \"\"\n",
        "\n",
        "    def __call__(self, *args, **kwargs):\n",
        "        return self.forward(*args, **kwargs)\n",
        "\n",
        "    def to(self, device):\n",
        "        return self\n",
        "\n",
        "    def parameters(self):\n",
        "        params = []\n",
        "        for k,v in self.__dict__.items():\n",
        "            params += getattr(v, 'parameters', lambda: [])()\n",
        "        return params\n",
        "\n",
        "    def train(self):\n",
        "        for p in self.parameters():\n",
        "            p.requires_grad = getattr(p, 'required_grad', p.requires_grad)\n",
        "    \n",
        "    def eval(self):\n",
        "        for p in self.parameters():\n",
        "            p.required_grad = p.requires_grad\n",
        "            p.requires_grad = False\n",
        "\n",
        "class ManualRegression(FakeTorchModule):\n",
        "    \"\"\"\n",
        "        Allows us to use our custom Linear layer and SGD optimizer.\n",
        "        Subclasses FakeTorchModule\n",
        "    \"\"\"\n",
        "\n",
        "    def __init__(self, input_dims, output_dims):\n",
        "        super().__init__()\n",
        "        ## TODO: Incorporate your custom components in the initialization pipeline. \n",
        "        # self.set_learning_rate()\n",
        "        # super().__init__()\n",
        "        self.linear = nn.Linear(input_dims, output_dims)\n",
        "        self.optimizer = SGD(self.linear.parameters(), 0.01)\n",
        "        self.set_learning_rate()\n",
        "\n",
        "    def set_learning_rate(self, learning_rate=0.001):\n",
        "        ## TODO: Use your new SGD component and make changes as appropriate.\n",
        "        self.optimizer.lr = learning_rate\n",
        "        # pass\n",
        "\n",
        "    def forward(self, x):\n",
        "        ## TODO: Implement the forward function as appropriate. Make changes as necessary\n",
        "        self.linear = nn.Linear(input_dims, output_dims)\n",
        "        return self.linear(x)\n",
        "        # return x\n",
        "\n",
        "class TrainTest2(TrainTest):\n",
        "    # no_grad = torch.no_grad\n",
        "    no_grad = Tensor.no_grad\n",
        "\n",
        "class ManualLinearRegression(ManualRegression, TrainTest2):\n",
        "    def __init__(self, input_dims, output_dims):\n",
        "        super().__init__(input_dims, output_dims)\n",
        "        ## TODO: Implement the subclass as appropriate with your own implementations\n",
        "    def mse_loss(y_hat, y):\n",
        "      return ((y_hat - y)**2).mean() \n",
        "\n",
        "    def train_step(self, x, y):\n",
        "        y_hat = self(x)\n",
        "        loss = nn.MSEloss(y_hat, y)\n",
        "        loss.backward()\n",
        "        self.optimizer.step()\n",
        "        self.optimizer.zero_grad()\n",
        "        return loss\n",
        "\n",
        "input_dims = X0.shape[1]\n",
        "output_dims = Y0.shape[1]\n",
        "## Train the manual linear regression model\n",
        "model = ManualLinearRegression(10, 1)\n",
        "model.set_learning_rate(0.2)\n",
        "model.train_test(\n",
        "    [[Tensor(X0), Tensor(Y0)]], \n",
        "    [[Tensor(X1), Tensor(Y1)]],\n",
        "    epochs=200\n",
        ");\n",
        "## TODO: Compare this model's performance to the first linear regression model -- they should be similar"
      ]
    },
    {
      "cell_type": "markdown",
      "metadata": {
        "id": "AhxMFrlPOX2J"
      },
      "source": [
        "-----"
      ]
    },
    {
      "cell_type": "markdown",
      "metadata": {
        "id": "v6DGrd50k0J5"
      },
      "source": [
        "## Wrapping Up\n",
        "\n",
        "Congratulations, you've finished this assignment! You should now have a better understand of linear regression, loss functions, and optimizers/gradient descent. This assignment provides the foundation for Homework 2, so feel free to come back or read it over again to get a solid understanding.\n",
        "\n",
        "Be sure to submit your finished notebook (follow the guidelines on the handout)."
      ]
    }
  ],
  "metadata": {
    "colab": {
      "provenance": [],
      "toc_visible": true,
      "include_colab_link": true
    },
    "kernelspec": {
      "display_name": "DL",
      "language": "python",
      "name": "python3"
    },
    "language_info": {
      "codemirror_mode": {
        "name": "ipython",
        "version": 3
      },
      "file_extension": ".py",
      "mimetype": "text/x-python",
      "name": "python",
      "nbconvert_exporter": "python",
      "pygments_lexer": "ipython3",
      "version": "3.10.8 | packaged by conda-forge | (main, Nov 22 2022, 08:25:13) [Clang 14.0.6 ]"
    },
    "vscode": {
      "interpreter": {
        "hash": "759be6693a164ddeab1e231298c2a01a8302a7c7dfd4e560844dbce42a896f34"
      }
    }
  },
  "nbformat": 4,
  "nbformat_minor": 0
}